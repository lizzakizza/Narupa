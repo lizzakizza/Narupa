{
 "cells": [
  {
   "cell_type": "markdown",
   "metadata": {},
   "source": [
    "# Run an AMBER simulation with Narupa\n",
    "\n"
   ]
  },
  {
   "cell_type": "markdown",
   "metadata": {},
   "source": [
    "## Prepare an AMBER simulation\n",
    "\n",
    "Here, we prepare a simulation of a GluHUT."
   ]
  },
  {
   "cell_type": "code",
   "execution_count": 1,
   "metadata": {},
   "outputs": [
    {
     "name": "stderr",
     "output_type": "stream",
     "text": [
      "Warning: importing 'simtk.openmm' is deprecated.  Import 'openmm' instead.\n"
     ]
    }
   ],
   "source": [
    "import openmm as mm\n",
    "from openmm import app\n",
    "from simtk import unit\n",
    "from narupa.openmm import OpenMMRunner\n",
    "\n",
    "from narupa.openmm.imd import add_imd_force_to_system\n",
    "\n",
    "# Paths to the relevant structural files\n",
    "prmtop = app.AmberPrmtopFile(\"GluHUT/topology_solvated.parm7\")\n",
    "inpcrd = app.AmberInpcrdFile(\"GluHUT/coordinates_solvated.rst7\")\n",
    "pdb = app.PDBFile(\"GluHUT/coordinates_solvated.pdb\")\n",
    "\n",
    "# Construct the structure object\n",
    "system = prmtop.createSystem(\n",
    "    nonbondedMethod=app.PME,\n",
    "    nonbondedCutoff=1 * unit.nanometer,\n",
    ")\n",
    "\n",
    "# Add the Narupa custom force fields to the system. This force is used by Narupa\n",
    "# to transmit the force from the VR client. The force *must* be added *before*\n",
    "# the system is attached to a simulation.\n",
    "add_imd_force_to_system(system)\n",
    "\n",
    "# Specify the simulation settings\n",
    "integrator = mm.LangevinIntegrator(\n",
    "    300 * unit.kelvin,\n",
    "    1 / unit.picosecond,\n",
    "    0.002 * unit.picoseconds,\n",
    ")\n",
    "\n",
    "# Build the simulation\n",
    "simulation = app.Simulation(pdb.topology, system, integrator)\n",
    "simulation.context.setPositions(pdb.positions)"
   ]
  },
  {
   "cell_type": "code",
   "execution_count": null,
   "metadata": {},
   "outputs": [],
   "source": [
    "#Perform a 100 step geometry optimisation operation\n",
    "simulation.minimizeEnergy()\n",
    "simulation.step(100)"
   ]
  },
  {
   "cell_type": "markdown",
   "metadata": {},
   "source": [
    "## Use the simulation with Narupa\n",
    "\n",
    "Narupa works with a client-server architecture. A Narupa runner creates the server and make the link between that server and the simulation. Here, we create a runner and attach to it the simulation we created earlier. Note that the runner adds a reporter to the simulation."
   ]
  },
  {
   "cell_type": "code",
   "execution_count": null,
   "metadata": {},
   "outputs": [],
   "source": [
    "from narupa.openmm import OpenMMRunner\n",
    "runner = OpenMMRunner(simulation)\n",
    "runner.run()"
   ]
  },
  {
   "cell_type": "markdown",
   "metadata": {},
   "source": [
    "From that point you have the simulation running and a server waiting for clients to connect.\n",
    "\n",
    "Once you are done, you can close the server to free the network port."
   ]
  },
  {
   "cell_type": "code",
   "execution_count": null,
   "metadata": {},
   "outputs": [],
   "source": [
    "runner.close()"
   ]
  },
  {
   "cell_type": "markdown",
   "metadata": {},
   "source": [
    "## Save a simulation to file\n",
    "\n",
    "Once you have a simulation ready, you may want to save this setup on a file. By doing so, it becomes simpler to reuse the simulation, including with the `narupa-omm-server` command line tool.\n",
    "\n",
    "`narupa.openmm.serializer.serialize_simulation` creates an XML that describes the system, the initial structure, and the integrator. `narupa.openmm.serializer.deserialize_simulation` reads such XML to produce a simulation object."
   ]
  },
  {
   "cell_type": "code",
   "execution_count": 6,
   "metadata": {},
   "outputs": [],
   "source": [
    "from narupa.openmm import serializer\n",
    "with open('simulation.xml', 'w') as outfile:\n",
    "    outfile.write(serializer.serialize_simulation(simulation))"
   ]
  },
  {
   "cell_type": "code",
   "execution_count": 7,
   "metadata": {},
   "outputs": [],
   "source": [
    "with open('simulation.xml') as infile:\n",
    "    simulation_2 = serializer.deserialize_simulation(infile.read())"
   ]
  },
  {
   "cell_type": "markdown",
   "metadata": {},
   "source": [
    "## Use a saved simulation\n",
    "\n",
    "With a simulation saved as an XML file, setting up a Narupa runner becomes much simpler:"
   ]
  },
  {
   "cell_type": "code",
   "execution_count": 8,
   "metadata": {},
   "outputs": [],
   "source": [
    "from narupa.openmm import OpenMMRunner\n",
    "runner = OpenMMRunner.from_xml_input('openmm_files/17-ala.xml')\n",
    "runner.run()"
   ]
  },
  {
   "cell_type": "code",
   "execution_count": 9,
   "metadata": {},
   "outputs": [],
   "source": [
    "# Close the server when done with it.\n",
    "runner.close()"
   ]
  },
  {
   "cell_type": "markdown",
   "metadata": {},
   "source": [
    "## Save the trajectory\n",
    "\n",
    "The first benefit of iMD-VR is to see and interect with molecular systems, it is sometimes usefull to save the trajectory as well to run analyses or latter stages of a workflow. Saving the trajectory is done in the regular way for OpenMM simulations: by attaching a reporter. Here we attach a DCD reporter to save the trajectory in the DCD format every 500 frames."
   ]
  },
  {
   "cell_type": "code",
   "execution_count": 10,
   "metadata": {},
   "outputs": [],
   "source": [
    "from narupa.openmm import OpenMMRunner\n",
    "runner = OpenMMRunner.from_xml_input('openmm_files/17-ala.xml')\n",
    "\n",
    "dcd_reporter = app.DCDReporter('output.dcd', 500)\n",
    "simulation = runner.simulation\n",
    "simulation.reporters.append(dcd_reporter)\n",
    "\n",
    "runner.run()"
   ]
  },
  {
   "cell_type": "code",
   "execution_count": 11,
   "metadata": {},
   "outputs": [],
   "source": [
    "# Close the server when done with it.\n",
    "runner.close()"
   ]
  },
  {
   "cell_type": "markdown",
   "metadata": {},
   "source": [
    "The DCD reporter does not close the file when the simulation is finished. In some cases, this can prevent to open the trajectory with an other software as long as the jupyter kernel is running. This line closes the file. Note that this will break the reporter in case you want to continue running the simulation."
   ]
  },
  {
   "cell_type": "code",
   "execution_count": 12,
   "metadata": {},
   "outputs": [
    {
     "ename": "AttributeError",
     "evalue": "'NoneType' object has no attribute '_file'",
     "output_type": "error",
     "traceback": [
      "\u001b[1;31m---------------------------------------------------------------------------\u001b[0m",
      "\u001b[1;31mAttributeError\u001b[0m                            Traceback (most recent call last)",
      "Cell \u001b[1;32mIn[12], line 1\u001b[0m\n\u001b[1;32m----> 1\u001b[0m \u001b[43mdcd_reporter\u001b[49m\u001b[38;5;241;43m.\u001b[39;49m\u001b[43m_dcd\u001b[49m\u001b[38;5;241;43m.\u001b[39;49m\u001b[43m_file\u001b[49m\u001b[38;5;241m.\u001b[39mclose()\n",
      "\u001b[1;31mAttributeError\u001b[0m: 'NoneType' object has no attribute '_file'"
     ]
    }
   ],
   "source": [
    "dcd_reporter._dcd._file.close()"
   ]
  },
  {
   "cell_type": "code",
   "execution_count": null,
   "metadata": {},
   "outputs": [],
   "source": []
  },
  {
   "cell_type": "code",
   "execution_count": null,
   "metadata": {},
   "outputs": [],
   "source": []
  },
  {
   "cell_type": "code",
   "execution_count": null,
   "metadata": {},
   "outputs": [],
   "source": []
  },
  {
   "cell_type": "code",
   "execution_count": null,
   "metadata": {},
   "outputs": [],
   "source": []
  }
 ],
 "metadata": {
  "kernelspec": {
   "display_name": "Python 3 (ipykernel)",
   "language": "python",
   "name": "python3"
  },
  "language_info": {
   "codemirror_mode": {
    "name": "ipython",
    "version": 3
   },
   "file_extension": ".py",
   "mimetype": "text/x-python",
   "name": "python",
   "nbconvert_exporter": "python",
   "pygments_lexer": "ipython3",
   "version": "3.10.13"
  }
 },
 "nbformat": 4,
 "nbformat_minor": 4
}
