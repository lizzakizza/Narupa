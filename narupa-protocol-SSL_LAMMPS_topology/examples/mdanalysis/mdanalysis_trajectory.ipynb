{
 "cells": [
  {
   "cell_type": "markdown",
   "metadata": {
    "collapsed": true,
    "pycharm": {
     "is_executing": false
    }
   },
   "source": [
    "## Creating a VR Trajectory Viewer with Narupa and MDAnalysis\n"
   ]
  },
  {
   "cell_type": "markdown",
   "metadata": {},
   "source": [
    "In this notebook, we set up our own VR trajectory viewer from scratch using MDAnalysis and Narupa, adding playback controls that can be controlled from VR."
   ]
  },
  {
   "cell_type": "markdown",
   "metadata": {},
   "source": [
    "## Reading in the trjaectory "
   ]
  },
  {
   "cell_type": "markdown",
   "metadata": {},
   "source": [
    "We've got a small trajectory of oseltamivir unbinding from neuraminidase, produced with iMD-VR. "
   ]
  },
  {
   "cell_type": "code",
   "execution_count": null,
   "metadata": {},
   "outputs": [],
   "source": [
    "import MDAnalysis as mda"
   ]
  },
  {
   "cell_type": "code",
   "execution_count": null,
   "metadata": {},
   "outputs": [],
   "source": [
    "topology_file = 'files/3TI6_ose_wt.pdb'\n",
    "trajectory_file = 'files/ose_wt.dcd'"
   ]
  },
  {
   "cell_type": "code",
   "execution_count": null,
   "metadata": {},
   "outputs": [],
   "source": [
    "universe = mda.Universe(topology_file, trajectory_file, trajectory=True, guess_bonds=True)"
   ]
  },
  {
   "cell_type": "code",
   "execution_count": null,
   "metadata": {},
   "outputs": [],
   "source": [
    "n_frames = universe.trajectory.n_frames\n",
    "n_frames"
   ]
  },
  {
   "cell_type": "markdown",
   "metadata": {},
   "source": [
    "## Setting up the Trajectory Server"
   ]
  },
  {
   "cell_type": "markdown",
   "metadata": {},
   "source": [
    "Now we've got the trajectory, let's serve it with Narupa. We'll create the server, and then send frames one at a time"
   ]
  },
  {
   "cell_type": "code",
   "execution_count": null,
   "metadata": {},
   "outputs": [],
   "source": [
    "from narupa.app import NarupaFrameApplication\n",
    "from narupa.mdanalysis import mdanalysis_to_frame_data"
   ]
  },
  {
   "cell_type": "code",
   "execution_count": null,
   "metadata": {},
   "outputs": [],
   "source": [
    "frame_server = NarupaFrameApplication.basic_server(port=0)"
   ]
  },
  {
   "cell_type": "code",
   "execution_count": null,
   "metadata": {},
   "outputs": [],
   "source": [
    "current_frame_index = 0"
   ]
  },
  {
   "cell_type": "markdown",
   "metadata": {},
   "source": [
    "We just need to send the topology once, then the positions after that, so we define a couple of methods \n",
    "to help"
   ]
  },
  {
   "cell_type": "code",
   "execution_count": null,
   "metadata": {},
   "outputs": [],
   "source": [
    "def send_topology_frame():\n",
    "    # Convert the mdanalysis topology to a Narupa frame\n",
    "    frame = mdanalysis_to_frame_data(universe, topology=True, positions=False)\n",
    "    frame_server.frame_publisher.send_frame(0, frame)"
   ]
  },
  {
   "cell_type": "code",
   "execution_count": null,
   "metadata": {},
   "outputs": [],
   "source": [
    "def send_frame(index):\n",
    "    # Send the particle positions of the given trajectory index. \n",
    "    assert 0 <= index < universe.trajectory.n_frames, f'Frame index not in range [{0},{universe.trajectory.n_frames-1}]'\n",
    "    time_step = universe.trajectory[index]\n",
    "    frame = mdanalysis_to_frame_data(universe, topology=False, positions=True)\n",
    "    frame_server.frame_publisher.send_frame(index, frame)"
   ]
  },
  {
   "cell_type": "code",
   "execution_count": null,
   "metadata": {},
   "outputs": [],
   "source": [
    "send_topology_frame()"
   ]
  },
  {
   "cell_type": "code",
   "execution_count": null,
   "metadata": {},
   "outputs": [],
   "source": [
    "send_frame(5)"
   ]
  },
  {
   "cell_type": "markdown",
   "metadata": {},
   "source": [
    "If you send frames one at a time like this, you should see something like this in VR: \n",
    "\n",
    "![Manual Trajectory](./images/narupa_neuraminidase_trajectory_manual.gif)"
   ]
  },
  {
   "cell_type": "markdown",
   "metadata": {},
   "source": [
    "## Make it loop on it's own"
   ]
  },
  {
   "cell_type": "markdown",
   "metadata": {},
   "source": [
    "This is cool, but it's a bit annoying having to send frames manually, let's instead make it play by itself. "
   ]
  },
  {
   "cell_type": "code",
   "execution_count": null,
   "metadata": {},
   "outputs": [],
   "source": [
    "playback_fps = 15 # Frames per second"
   ]
  },
  {
   "cell_type": "code",
   "execution_count": null,
   "metadata": {},
   "outputs": [],
   "source": [
    "playback_seconds = 10 # How long to play for, in seconds"
   ]
  },
  {
   "cell_type": "code",
   "execution_count": null,
   "metadata": {},
   "outputs": [],
   "source": [
    "from datetime import datetime, timedelta\n",
    "import time"
   ]
  },
  {
   "cell_type": "markdown",
   "metadata": {},
   "source": [
    "The following cell sends `playback_fps`  frames a second for `playback_seconds`"
   ]
  },
  {
   "cell_type": "code",
   "execution_count": null,
   "metadata": {},
   "outputs": [],
   "source": [
    "start_time = datetime.now()\n",
    "index = 0\n",
    "playback_time = timedelta(seconds=playback_seconds) # Represents time difference in seconds\n",
    "while datetime.now() - start_time < playback_time:\n",
    "    send_frame(index)\n",
    "    index = (index + 1) % universe.trajectory.n_frames\n",
    "    time.sleep( 1 / playback_fps) # Delay sending frames so we hit the desired FPS"
   ]
  },
  {
   "cell_type": "markdown",
   "metadata": {},
   "source": [
    "This results in pretty smooth looping playback:\n",
    "\n",
    "![Narupa looping trajectory](./images/narupa_neuraminidase_trajectory_loop.gif)"
   ]
  },
  {
   "cell_type": "markdown",
   "metadata": {},
   "source": [
    "## Making it even better"
   ]
  },
  {
   "cell_type": "markdown",
   "metadata": {},
   "source": [
    "We've now got something that can 'play' trajectories, but it would be good if we could leave it running, infinitely looping, \n",
    "and not block execution of other cells. It would also be nice to be able to pause, reset and step forward the trajectory. \n",
    "\n",
    "The following cell creates a small class for doing this. Given our `universe` and `frame_server` that we defined above, it sets up some logic for running playback on a background thread.\n",
    "\n",
    "**Note**: Creating classes and running background threads is quite complicated for a Jupyter Notebook, and is only intended as a learning example! If you decide to customize this further, it would be a good idea to move these ideas to their own python modules."
   ]
  },
  {
   "cell_type": "code",
   "execution_count": null,
   "metadata": {},
   "outputs": [],
   "source": [
    "from threading import RLock\n",
    "from concurrent import futures\n",
    "\n",
    "class TrajectoryPlayback:\n",
    "    \n",
    "    def __init__(self):        \n",
    "        \"\"\"\n",
    "        Initialise playback, setting things up.\n",
    "        \"\"\"\n",
    "        # Get a pool of threads (just one) that we can run the play back on\n",
    "        self.threads = futures.ThreadPoolExecutor(max_workers=1)\n",
    "        self._run_task = None\n",
    "        self._cancelled = False\n",
    "        self._cancel_lock = RLock()\n",
    "        self.frame_index = 0\n",
    "    \n",
    "    @property \n",
    "    def is_running(self):\n",
    "        # Fancy logic that just checks whether or not we're playing the trajectory in the background\n",
    "        return self._run_task is not None and not (self._run_task.cancelled() or self._run_task.done())\n",
    "\n",
    "    def play(self):\n",
    "        \"\"\"\n",
    "        Plays the trajectory in the background.\n",
    "        \"\"\"\n",
    "        # First, we have to cancel any existing playback, and start a new one.\n",
    "        with self._cancel_lock:\n",
    "            self.cancel_playback(wait=True)\n",
    "        self.run_playback()\n",
    "        \n",
    "    def step(self):\n",
    "        \"\"\"\n",
    "        Take a single step of the trajectory and stop. \n",
    "        \"\"\"\n",
    "        # The lock here ensures only one person can cancel at a time. \n",
    "        with self._cancel_lock:\n",
    "            self.cancel_playback(wait=True)\n",
    "            self._step_one_frame()\n",
    "\n",
    "    def pause(self):\n",
    "        \"\"\"\n",
    "        Pause the playback, by cancelling any current playback.\n",
    "        \"\"\"\n",
    "        with self._cancel_lock:\n",
    "            self.cancel_playback(wait=True)\n",
    "\n",
    "    def run_playback(self, block=False):\n",
    "        \"\"\"\n",
    "        Runs the trajectory playback. If block is False, it will run on a background thread.\n",
    "        \"\"\"\n",
    "        if self.is_running:\n",
    "            raise RuntimeError(\"The trajectory is already playing on a thread!\")\n",
    "        if block:\n",
    "            self._run()\n",
    "        else:\n",
    "            self._run_task = self.threads.submit(self._run)\n",
    "    \n",
    "    def _run(self):\n",
    "        while not self._cancelled:\n",
    "            self._step_one_frame()\n",
    "            time.sleep( 1 / playback_fps) # Delay sending frames so we hit the desired FPS\n",
    "        self._cancelled = False\n",
    "        \n",
    "    def _step_one_frame(self):\n",
    "        send_frame(self.frame_index)\n",
    "        self.frame_index = (self.frame_index + 1) % universe.trajectory.n_frames\n",
    "\n",
    "    def cancel_playback(self, wait=False):\n",
    "        \"\"\"\n",
    "        Cancel trajectory playback, if it's running. If wait is True, this method will wait until the playback stops \n",
    "        before returning.\n",
    "        \"\"\"\n",
    "        if self._run_task is None:\n",
    "            return\n",
    "\n",
    "        if self._cancelled:\n",
    "            return\n",
    "        self._cancelled = True\n",
    "        if wait:\n",
    "            self._run_task.result()\n",
    "            self._cancelled = False\n",
    "\n",
    "    def reset(self):\n",
    "        self.frame_index = 0\n"
   ]
  },
  {
   "cell_type": "markdown",
   "metadata": {},
   "source": [
    "We've defined our class, now we have to instantiate it: "
   ]
  },
  {
   "cell_type": "code",
   "execution_count": null,
   "metadata": {},
   "outputs": [],
   "source": [
    "trajectory_player = TrajectoryPlayback()"
   ]
  },
  {
   "cell_type": "markdown",
   "metadata": {},
   "source": [
    "Try running these cells and see what happens in VR"
   ]
  },
  {
   "cell_type": "code",
   "execution_count": null,
   "metadata": {},
   "outputs": [],
   "source": [
    "trajectory_player.play()"
   ]
  },
  {
   "cell_type": "code",
   "execution_count": null,
   "metadata": {},
   "outputs": [],
   "source": [
    "trajectory_player.cancel_playback()"
   ]
  },
  {
   "cell_type": "code",
   "execution_count": null,
   "metadata": {},
   "outputs": [],
   "source": [
    "trajectory_player.play()"
   ]
  },
  {
   "cell_type": "code",
   "execution_count": null,
   "metadata": {},
   "outputs": [],
   "source": [
    "trajectory_player.pause()"
   ]
  },
  {
   "cell_type": "code",
   "execution_count": null,
   "metadata": {},
   "outputs": [],
   "source": [
    "trajectory_player.play()"
   ]
  },
  {
   "cell_type": "code",
   "execution_count": null,
   "metadata": {},
   "outputs": [],
   "source": [
    "trajectory_player.reset()"
   ]
  },
  {
   "cell_type": "code",
   "execution_count": null,
   "metadata": {},
   "outputs": [],
   "source": [
    "trajectory_player.step()"
   ]
  },
  {
   "cell_type": "code",
   "execution_count": null,
   "metadata": {},
   "outputs": [],
   "source": [
    "trajectory_player.step()"
   ]
  },
  {
   "cell_type": "markdown",
   "metadata": {},
   "source": [
    "## Control it from VR "
   ]
  },
  {
   "cell_type": "markdown",
   "metadata": {},
   "source": [
    "This is nearly there! Now let's just wire up some commands, so the VR buttons for pause, play and step will control our server. Since these are standard commands used by other applications, we store their names: "
   ]
  },
  {
   "cell_type": "code",
   "execution_count": null,
   "metadata": {},
   "outputs": [],
   "source": [
    "from narupa.trajectory.frame_server import PLAY_COMMAND_KEY, RESET_COMMAND_KEY, STEP_COMMAND_KEY, PAUSE_COMMAND_KEY"
   ]
  },
  {
   "cell_type": "code",
   "execution_count": null,
   "metadata": {},
   "outputs": [],
   "source": [
    "print(PLAY_COMMAND_KEY, RESET_COMMAND_KEY, STEP_COMMAND_KEY, PAUSE_COMMAND_KEY)"
   ]
  },
  {
   "cell_type": "markdown",
   "metadata": {},
   "source": [
    "Now we tell the server that we want our `play`, `pause`, `step` and `reset` methods to be called whenever those commands are run by a client."
   ]
  },
  {
   "cell_type": "code",
   "execution_count": null,
   "metadata": {},
   "outputs": [],
   "source": [
    "frame_server.server.register_command(PLAY_COMMAND_KEY, trajectory_player.play)\n",
    "frame_server.server.register_command(PAUSE_COMMAND_KEY, trajectory_player.pause)\n",
    "frame_server.server.register_command(RESET_COMMAND_KEY, trajectory_player.reset)\n",
    "frame_server.server.register_command(STEP_COMMAND_KEY, trajectory_player.step)"
   ]
  },
  {
   "cell_type": "markdown",
   "metadata": {},
   "source": [
    "Now it can be controlled from the iMD-VR app!"
   ]
  },
  {
   "cell_type": "markdown",
   "metadata": {},
   "source": [
    "## Making it Pretty "
   ]
  },
  {
   "cell_type": "markdown",
   "metadata": {},
   "source": [
    "Let's change how it looks. We've covered this in more detail in the [neuraminidase iMD](../ase/openmm_neuraminidase.ipynb) and [graphene](../ase/openmm_graphene.ipynb) examples.\n",
    "\n",
    "**Note**: A lot of this will probably be made simpler in upcoming releases"
   ]
  },
  {
   "cell_type": "code",
   "execution_count": null,
   "metadata": {},
   "outputs": [],
   "source": [
    "from narupa.app import NarupaImdClient\n",
    "client = NarupaImdClient.connect_to_single_server(port=frame_server.port)\n",
    "client.subscribe_to_frames()\n",
    "client.wait_until_first_frame()"
   ]
  },
  {
   "cell_type": "code",
   "execution_count": null,
   "metadata": {},
   "outputs": [],
   "source": [
    "client.subscribe_multiplayer()"
   ]
  },
  {
   "cell_type": "code",
   "execution_count": null,
   "metadata": {},
   "outputs": [],
   "source": [
    "import matplotlib.cm\n",
    "\n",
    "def get_matplotlib_gradient(name: str):\n",
    "    cmap = matplotlib.cm.get_cmap(name)\n",
    "    return list(list(cmap(x/7)) for x in range(0, 8, 1))"
   ]
  },
  {
   "cell_type": "code",
   "execution_count": null,
   "metadata": {},
   "outputs": [],
   "source": [
    "from narupa.mdanalysis import frame_data_to_mdanalysis\n",
    "def generate_mdanalysis_selection(selection: str):\n",
    "    universe = frame_data_to_mdanalysis(client.first_frame)\n",
    "    idx_array = universe.select_atoms(selection).indices\n",
    "    return map(int, idx_array)"
   ]
  },
  {
   "cell_type": "code",
   "execution_count": null,
   "metadata": {},
   "outputs": [],
   "source": [
    "root_selection = client.root_selection\n",
    "with root_selection.modify():\n",
    "    root_selection.hide = True\n",
    "    root_selection.interaction_method = 'none'"
   ]
  },
  {
   "cell_type": "code",
   "execution_count": null,
   "metadata": {},
   "outputs": [],
   "source": [
    "protein = client.create_selection(\"Protein\", [])"
   ]
  },
  {
   "cell_type": "code",
   "execution_count": null,
   "metadata": {},
   "outputs": [],
   "source": [
    "with protein.modify():\n",
    "    protein.set_particles(generate_mdanalysis_selection(\"protein and not type H\"))"
   ]
  },
  {
   "cell_type": "code",
   "execution_count": null,
   "metadata": {},
   "outputs": [],
   "source": [
    "with protein.modify():\n",
    "    protein.renderer = {\n",
    "            'sequence': 'polypeptide',\n",
    "            'color': {\n",
    "                'type': 'residue index in entity',\n",
    "                'gradient': get_matplotlib_gradient('viridis')\n",
    "            },\n",
    "            'render': 'geometric spline',\n",
    "            'scale': 0.2\n",
    "        }"
   ]
  },
  {
   "cell_type": "code",
   "execution_count": null,
   "metadata": {},
   "outputs": [],
   "source": [
    "# Select ligand\n",
    "ligand = client.create_selection(\"Ligand\", [])\n",
    "with ligand.modify():\n",
    "    ligand.set_particles(generate_mdanalysis_selection(\"resname OSE\"))"
   ]
  },
  {
   "cell_type": "code",
   "execution_count": null,
   "metadata": {},
   "outputs": [],
   "source": [
    "with ligand.modify():\n",
    "    ligand.renderer = {\n",
    "            'scale': 0.1,\n",
    "            'render': 'liquorice',\n",
    "            'color': 'cpk',\n",
    "        }"
   ]
  },
  {
   "cell_type": "markdown",
   "metadata": {},
   "source": [
    "## Tidying Up"
   ]
  },
  {
   "cell_type": "code",
   "execution_count": null,
   "metadata": {},
   "outputs": [],
   "source": [
    "trajectory_player.cancel_playback()\n",
    "client.close()\n",
    "frame_server.close()"
   ]
  },
  {
   "cell_type": "markdown",
   "metadata": {},
   "source": [
    "# Next Steps"
   ]
  },
  {
   "cell_type": "markdown",
   "metadata": {},
   "source": [
    "* Understand how [frames](../fundamentals/frame.ipynb) are constructed. \n",
    "* See a detailed example of setting up custom [commands](../fundamentals/commands_and_state.ipynb)."
   ]
  },
  {
   "cell_type": "code",
   "execution_count": null,
   "metadata": {},
   "outputs": [],
   "source": []
  }
 ],
 "metadata": {
  "kernelspec": {
   "display_name": "Python 3",
   "language": "python",
   "name": "python3"
  },
  "language_info": {
   "codemirror_mode": {
    "name": "ipython",
    "version": 3
   },
   "file_extension": ".py",
   "mimetype": "text/x-python",
   "name": "python",
   "nbconvert_exporter": "python",
   "pygments_lexer": "ipython3",
   "version": "3.7.6"
  }
 },
 "nbformat": 4,
 "nbformat_minor": 1
}
