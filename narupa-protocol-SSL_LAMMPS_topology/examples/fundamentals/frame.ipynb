{
 "cells": [
  {
   "cell_type": "markdown",
   "metadata": {
    "collapsed": true,
    "pycharm": {
     "is_executing": false
    }
   },
   "source": [
    "# Narupa Concepts: Frames\n"
   ]
  },
  {
   "cell_type": "markdown",
   "metadata": {},
   "source": [
    "In this notebook, we'll dig into one of the main ideas in Narupa, the **frame**"
   ]
  },
  {
   "cell_type": "code",
   "execution_count": null,
   "metadata": {},
   "outputs": [],
   "source": [
    "from mpl_toolkits.mplot3d import Axes3D  # noqa: F401 unused import\n",
    "import matplotlib.pyplot as plt"
   ]
  },
  {
   "cell_type": "code",
   "execution_count": null,
   "metadata": {},
   "outputs": [],
   "source": [
    "%matplotlib notebook"
   ]
  },
  {
   "cell_type": "markdown",
   "metadata": {},
   "source": [
    "## What is a frame?"
   ]
  },
  {
   "cell_type": "markdown",
   "metadata": {},
   "source": [
    "A frame is our way of representing a molecular system or trajectory in a way that is efficient to send over the network to clients, e.g. the VR app. \n",
    "\n",
    "The schematic illustrates this: a Narupa server produces a Frame Data object, which is serialized and transmitted using [GRPC](https://grpc.io) to client applications.\n",
    "\n",
    "![Narupa Frame](images/frame_server.png)"
   ]
  },
  {
   "cell_type": "markdown",
   "metadata": {},
   "source": [
    "A frame is represented as two dictionaries: one of arrays, and one of values. The arrays are used for sending lists of values of the same type, such as particle positions, while the values are used for transmitting single objects, such as numbers or strings.\n",
    "\n",
    "Let's create a frame for a water molecule. We'll do it by hand."
   ]
  },
  {
   "cell_type": "markdown",
   "metadata": {},
   "source": [
    "### A Note on Narupa Units"
   ]
  },
  {
   "cell_type": "markdown",
   "metadata": {},
   "source": [
    "In Narupa, we use the same units as our favourite MD package, [OpenMM](http://openmm.org/). \n",
    "\n",
    "| Quantity    | Unit              |\n",
    "|-------------|-------------------|\n",
    "| Distance    | nm                |\n",
    "| Time        | ps                |\n",
    "| mass        | atomic mass units |\n",
    "| charge      | proton charge     |\n",
    "| temperature | Kelvin            |\n",
    "| angle       | radians           |\n",
    "| energy      | kJ/mol            |\n",
    "\n",
    "Why? Partially because we use OpenMM a lot, but also, to quote from [the OpenMM documentation](http://docs.openmm.org/latest/userguide/theory.html#units): \n",
    "\n",
    "> These units have the important feature that they form an internally consistent set. For example, a force always has the same units (kJ/mol/nm) whether it is calculated as the gradient of an energy or as the product of a mass and an acceleration. This is not true in some other widely used unit systems, such as those that express energy in kcal/mol.\n",
    "\n",
    "So even though we interface with many packages, such as ASE, Sparrow and LAMMPS, which use different units, we always try to convert back to these units when producing frames."
   ]
  },
  {
   "cell_type": "code",
   "execution_count": null,
   "metadata": {},
   "outputs": [],
   "source": [
    "import numpy as np"
   ]
  },
  {
   "cell_type": "code",
   "execution_count": null,
   "metadata": {},
   "outputs": [],
   "source": [
    "# arrange the water molecular O H H \n",
    "water_positions = np.array([[0,0,0],[0.075545, 0.047116, 0.00000], [-0.075545, 0.047116, 0.00000 ]])\n",
    "# elements are defined by their atomic numbers\n",
    "water_elements = [8, 1, 1]\n",
    "# Define bonds between the oxygen and the hydrogens.\n",
    "water_bonds = np.array([[0, 1], [0, 2]])"
   ]
  },
  {
   "cell_type": "code",
   "execution_count": null,
   "metadata": {
    "scrolled": true
   },
   "outputs": [],
   "source": [
    "fig = plt.figure()\n",
    "ax = fig.add_subplot(111, projection='3d')\n",
    "\n",
    "ax.scatter(water_positions[:,0], water_positions[:,1], water_positions[:,2], c=['red','gray','gray'], s=[3000, 1100, 1100])\n",
    "ax.grid(b=False)\n",
    "ax.set_xlabel('X')\n",
    "ax.set_ylabel('Y')\n",
    "ax.set_zlabel('Z')\n"
   ]
  },
  {
   "cell_type": "markdown",
   "metadata": {},
   "source": [
    "Now, we create an empty frame and put all of this data in by accessing the appropriate storage (arrays or values) and assigning a key."
   ]
  },
  {
   "cell_type": "code",
   "execution_count": null,
   "metadata": {},
   "outputs": [],
   "source": [
    "from narupa.trajectory import FrameData"
   ]
  },
  {
   "cell_type": "code",
   "execution_count": null,
   "metadata": {},
   "outputs": [],
   "source": [
    "frame = FrameData()"
   ]
  },
  {
   "cell_type": "code",
   "execution_count": null,
   "metadata": {},
   "outputs": [],
   "source": [
    "frame.arrays['particle.positions'] = water_positions.flatten() # We have to store as a flat array.\n",
    "frame.arrays['particle.elements'] = water_elements\n",
    "frame.arrays['bond.pairs'] = water_bonds.flatten()"
   ]
  },
  {
   "cell_type": "code",
   "execution_count": null,
   "metadata": {},
   "outputs": [],
   "source": [
    "frame.values['particle.count'] = 3"
   ]
  },
  {
   "cell_type": "markdown",
   "metadata": {},
   "source": [
    "Let's print out the frame, how this looks when communicated to clients. It's just two dictionaries, one with values, one with arrays."
   ]
  },
  {
   "cell_type": "code",
   "execution_count": null,
   "metadata": {},
   "outputs": [],
   "source": [
    "frame.raw"
   ]
  },
  {
   "cell_type": "markdown",
   "metadata": {},
   "source": [
    "To make things easier to use, the python wrapper has shortcuts for common molecular properties:"
   ]
  },
  {
   "cell_type": "code",
   "execution_count": null,
   "metadata": {},
   "outputs": [],
   "source": [
    "frame.shortcuts"
   ]
  },
  {
   "cell_type": "markdown",
   "metadata": {},
   "source": [
    "So we can see what keys have been set: "
   ]
  },
  {
   "cell_type": "code",
   "execution_count": null,
   "metadata": {},
   "outputs": [],
   "source": [
    "frame.array_keys"
   ]
  },
  {
   "cell_type": "code",
   "execution_count": null,
   "metadata": {},
   "outputs": [],
   "source": [
    "frame.value_keys"
   ]
  },
  {
   "cell_type": "markdown",
   "metadata": {},
   "source": [
    "And we could have used the shortcuts to get and set the fields:"
   ]
  },
  {
   "cell_type": "code",
   "execution_count": null,
   "metadata": {},
   "outputs": [],
   "source": [
    "frame.particle_count = 3\n",
    "frame.particle_positions = water_positions\n",
    "frame.particle_elements = water_elements\n",
    "frame.bond_pairs = water_bonds"
   ]
  },
  {
   "cell_type": "code",
   "execution_count": null,
   "metadata": {
    "scrolled": true
   },
   "outputs": [],
   "source": [
    "frame.particle_positions"
   ]
  },
  {
   "cell_type": "markdown",
   "metadata": {},
   "source": [
    "We can also see what shortcuts are linked to some data in the frame:"
   ]
  },
  {
   "cell_type": "code",
   "execution_count": null,
   "metadata": {},
   "outputs": [],
   "source": [
    "frame.used_shortcuts"
   ]
  },
  {
   "cell_type": "markdown",
   "metadata": {},
   "source": [
    "## Transmit it to VR"
   ]
  },
  {
   "cell_type": "markdown",
   "metadata": {},
   "source": [
    "We've provided enough data to visualize this amazing molecule in VR. So we'll fire up a server and send this frame."
   ]
  },
  {
   "cell_type": "code",
   "execution_count": null,
   "metadata": {},
   "outputs": [],
   "source": [
    "from narupa.app import NarupaFrameApplication"
   ]
  },
  {
   "cell_type": "code",
   "execution_count": null,
   "metadata": {},
   "outputs": [],
   "source": [
    "server = NarupaFrameApplication.basic_server(port=0)"
   ]
  },
  {
   "cell_type": "code",
   "execution_count": null,
   "metadata": {},
   "outputs": [],
   "source": [
    "server.frame_publisher.send_frame(0, frame)"
   ]
  },
  {
   "cell_type": "markdown",
   "metadata": {},
   "source": [
    "Connect from VR, and you'll see something like this:\n",
    "\n",
    "![Narupa H2O](images/h2o.png)"
   ]
  },
  {
   "cell_type": "markdown",
   "metadata": {},
   "source": [
    "## What kind of data can I send?"
   ]
  },
  {
   "cell_type": "markdown",
   "metadata": {},
   "source": [
    "You may have noticed that the particle count was transmitted as a `number_value` in the frame, and that the positions were a `float_value`. What kind of values can you send? What kind of arrays can you send? "
   ]
  },
  {
   "cell_type": "markdown",
   "metadata": {},
   "source": [
    "### Arrays"
   ]
  },
  {
   "cell_type": "markdown",
   "metadata": {},
   "source": [
    "For the arrays, you can send decimal number (floats), positive integers (unsigned int) and strings. The types are restricted so we can send them efficiently."
   ]
  },
  {
   "cell_type": "code",
   "execution_count": null,
   "metadata": {},
   "outputs": [],
   "source": [
    "frame.arrays['some floats'] = [1.0, 2.5, 3.5]\n",
    "frame.arrays['some numbers'] = [1,2,3]\n",
    "frame.arrays['some strings'] = ['a', 'bc', 'de']"
   ]
  },
  {
   "cell_type": "markdown",
   "metadata": {},
   "source": [
    "Of course, an array could just be an array of bytes (those in the business call these a `blob`)"
   ]
  },
  {
   "cell_type": "code",
   "execution_count": null,
   "metadata": {},
   "outputs": [],
   "source": [
    "with open('images/example_image.jpg', 'rb') as f:\n",
    "    image_bytes = f.read()"
   ]
  },
  {
   "cell_type": "code",
   "execution_count": null,
   "metadata": {},
   "outputs": [],
   "source": [
    "frame.arrays['image'] = image_bytes"
   ]
  },
  {
   "cell_type": "code",
   "execution_count": null,
   "metadata": {},
   "outputs": [],
   "source": [
    "server.frame_publisher.send_frame(0, frame)"
   ]
  },
  {
   "cell_type": "code",
   "execution_count": null,
   "metadata": {},
   "outputs": [],
   "source": [
    "from narupa.app import NarupaImdClient\n",
    "from IPython.display import Image\n",
    "\n",
    "with NarupaImdClient.connect_to_single_server(port=server.port) as client:\n",
    "    client.wait_until_first_frame()\n",
    "    received_image_bytes = bytes(client.latest_frame.arrays['image'])"
   ]
  },
  {
   "cell_type": "code",
   "execution_count": null,
   "metadata": {},
   "outputs": [],
   "source": [
    "Image(data=received_image_bytes, width=200)"
   ]
  },
  {
   "cell_type": "markdown",
   "metadata": {},
   "source": [
    "### Values"
   ]
  },
  {
   "cell_type": "markdown",
   "metadata": {},
   "source": [
    "For setting values, you can send any of a boolean, string or number:"
   ]
  },
  {
   "cell_type": "code",
   "execution_count": null,
   "metadata": {},
   "outputs": [],
   "source": [
    "frame.values['boolean'] = False\n",
    "frame.values['string'] = 'hello'\n",
    "frame.values['a number'] = 1.0"
   ]
  },
  {
   "cell_type": "markdown",
   "metadata": {},
   "source": [
    "**Note**: The underlying structure will support anything that can be represented with Protobuf's [Value](https://developers.google.com/protocol-buffers/docs/reference/csharp/class/google/protobuf/well-known-types/value) type - this will be fixed in an upcoming release. "
   ]
  },
  {
   "cell_type": "markdown",
   "metadata": {},
   "source": [
    "## More Molecular Data "
   ]
  },
  {
   "cell_type": "markdown",
   "metadata": {},
   "source": [
    "As well as the positions, bonds, and elements, we can set additional fields that are commonly available in topological fields formats. If these are passed, lots of exciting rendering and selection opportunites present themselves.\n",
    "\n",
    "The following assigns the water molecule to the residue HOH, in the chain A."
   ]
  },
  {
   "cell_type": "code",
   "execution_count": null,
   "metadata": {},
   "outputs": [],
   "source": [
    "frame.residue_ids = ['1', '1', '1']\n",
    "frame.residue_names = ['HOH', 'HOH', 'HOH']\n",
    "frame.residue_count = 1\n",
    "frame.particle_residues = [0,0,0]\n",
    "frame.chain_names = ['A']\n",
    "frame.chain_count = 1\n",
    "frame.residue_chains = [0]"
   ]
  },
  {
   "cell_type": "code",
   "execution_count": null,
   "metadata": {},
   "outputs": [],
   "source": [
    "server.frame_publisher.send_frame(0, frame)"
   ]
  },
  {
   "cell_type": "markdown",
   "metadata": {},
   "source": [
    "## Updating Data in a Frame"
   ]
  },
  {
   "cell_type": "markdown",
   "metadata": {},
   "source": [
    "When sending data, the iMD-VR client is intelligent enough to reuse data it has received before, so you don't need to send the everything every time. \n",
    "\n",
    "Our convention is to send the topology in the first frame, then just positions after that. The Frame server is smart enough to send the latest version of everything to a client when it first connects.\n",
    "\n",
    "In the following, we just update the positions array to move the water molecule by 1 nanometer in each cardinal direction."
   ]
  },
  {
   "cell_type": "code",
   "execution_count": null,
   "metadata": {},
   "outputs": [],
   "source": [
    "positions_frame = FrameData()\n",
    "positions_frame.particle_positions = water_positions + 1"
   ]
  },
  {
   "cell_type": "code",
   "execution_count": null,
   "metadata": {},
   "outputs": [],
   "source": [
    "server.frame_publisher.send_frame(1, positions_frame)"
   ]
  },
  {
   "cell_type": "markdown",
   "metadata": {},
   "source": [
    "# Tidying Up After Yourself"
   ]
  },
  {
   "cell_type": "code",
   "execution_count": null,
   "metadata": {},
   "outputs": [],
   "source": [
    "server.close()"
   ]
  },
  {
   "cell_type": "markdown",
   "metadata": {},
   "source": [
    "# Next Steps"
   ]
  },
  {
   "cell_type": "markdown",
   "metadata": {},
   "source": [
    "* See more practical examples of setting up [simulations](../ase/basic_example.ipynb) and [trajectories](../mdanalysis/mdanalysis_trajectory.ipynb)\n",
    "* Learn how to set up [commands and synchronise state](commands_and_state.ipynb)\n",
    "* Learn about the details of setting up [servers](servers.ipynb)"
   ]
  }
 ],
 "metadata": {
  "kernelspec": {
   "display_name": "Python 3",
   "language": "python",
   "name": "python3"
  },
  "language_info": {
   "codemirror_mode": {
    "name": "ipython",
    "version": 3
   },
   "file_extension": ".py",
   "mimetype": "text/x-python",
   "name": "python",
   "nbconvert_exporter": "python",
   "pygments_lexer": "ipython3",
   "version": "3.7.3"
  }
 },
 "nbformat": 4,
 "nbformat_minor": 1
}
