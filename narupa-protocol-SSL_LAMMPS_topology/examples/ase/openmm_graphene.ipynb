{
 "cells": [
  {
   "cell_type": "markdown",
   "metadata": {},
   "source": [
    "# Graphene Sheet with Interactive Physics Parameters"
   ]
  },
  {
   "cell_type": "markdown",
   "metadata": {},
   "source": [
    "This notebook simulates a graphene sheet with OpenMM, and exposes parameters that can be controlled in real time.\n",
    "Along the way, we'll learn:\n",
    "\n",
    "* How to add restraints to OpenMM simulations \n",
    "* How to expose functions as **commands** that can be run remotely \n",
    "* How to add sliders and buttons to Jupyter notebooks"
   ]
  },
  {
   "cell_type": "markdown",
   "metadata": {},
   "source": [
    "## Setup the OpenMM Simulation "
   ]
  },
  {
   "cell_type": "markdown",
   "metadata": {},
   "source": [
    "First, we set up an OpenMM simulation of graphene. In this case, we've already generated an OpenMM XML file and have a PDB ready to use for the topology. See the [neuraminidase example](./openmm_neuraminidase.ipynb) for a more detailed look at setting up OpenMM simulations. "
   ]
  },
  {
   "cell_type": "code",
   "execution_count": null,
   "metadata": {
    "pycharm": {
     "is_executing": false,
     "name": "#%%\n"
    }
   },
   "outputs": [],
   "source": [
    "import simtk.openmm.app as app\n",
    "import simtk.openmm as mm \n",
    "import simtk.unit as unit\n",
    "pdb_file = app.PDBFile('openmm_files/graphene_with_bonds.pdb')\n",
    "system_xml = 'openmm_files/graphene_omm.xml'"
   ]
  },
  {
   "cell_type": "code",
   "execution_count": null,
   "metadata": {
    "pycharm": {
     "is_executing": false,
     "name": "#%%\n"
    }
   },
   "outputs": [],
   "source": [
    "#read the system into OpenMM \n",
    "with open(system_xml, 'r') as f:\n",
    "    system_string = f.read()\n",
    "system: mm.System\n",
    "system = mm.XmlSerializer.deserialize(system_string)"
   ]
  },
  {
   "cell_type": "markdown",
   "metadata": {},
   "source": [
    "Great, we've got a PDB topology, and a definition of all of the OpenMM forces to use with it. "
   ]
  },
  {
   "cell_type": "code",
   "execution_count": null,
   "metadata": {},
   "outputs": [],
   "source": [
    "system.getNumForces(), system.getNumParticles()"
   ]
  },
  {
   "cell_type": "code",
   "execution_count": null,
   "metadata": {},
   "outputs": [],
   "source": [
    "pdb_file.getTopology().getNumAtoms()"
   ]
  },
  {
   "cell_type": "markdown",
   "metadata": {},
   "source": [
    "For this simulation, we want to hold the corners of the graphene sheet in place. We do that with spring force restraints. \n",
    "Narupa has some shortcuts for setting these up with OpenMM."
   ]
  },
  {
   "cell_type": "code",
   "execution_count": null,
   "metadata": {},
   "outputs": [],
   "source": [
    "from narupa.openmm.potentials import restrain_particles"
   ]
  },
  {
   "cell_type": "code",
   "execution_count": null,
   "metadata": {
    "pycharm": {
     "is_executing": false,
     "name": "#%%\n"
    }
   },
   "outputs": [],
   "source": [
    "atoms_to_restrain = [0, 38, 641, 679] # the corner atoms. \n",
    "force = restrain_particles(pdb_file.positions, atoms_to_restrain, 10000 * unit.kilojoule_per_mole / unit.nanometer ** 2)\n",
    "force_index = system.addForce(force)\n",
    "print(f\"Added force with index {force_index}. System now has {system.getNumForces()} forces.\")"
   ]
  },
  {
   "cell_type": "markdown",
   "metadata": {},
   "source": [
    "Now we create an OpenMM simulation with it. "
   ]
  },
  {
   "cell_type": "code",
   "execution_count": null,
   "metadata": {
    "pycharm": {
     "is_executing": false,
     "name": "#%%\n"
    }
   },
   "outputs": [],
   "source": [
    "simulation = app.Simulation(pdb_file.topology, system, mm.LangevinIntegrator(300 * unit.kelvin, 1.0/unit.picosecond, 1.0*unit.femtosecond))\n",
    "simulation.context.setPositions(pdb_file.positions)\n",
    "simulation.minimizeEnergy()"
   ]
  },
  {
   "cell_type": "markdown",
   "metadata": {},
   "source": [
    "Run a few steps to make sure it's working"
   ]
  },
  {
   "cell_type": "code",
   "execution_count": null,
   "metadata": {},
   "outputs": [],
   "source": [
    "simulation.context.setVelocitiesToTemperature(300 * unit.kelvin)\n",
    "simulation.step(1000)"
   ]
  },
  {
   "cell_type": "markdown",
   "metadata": {},
   "source": [
    "## Run the Narupa Server"
   ]
  },
  {
   "cell_type": "markdown",
   "metadata": {},
   "source": [
    "We'll use Narupa's OpenMMIMDRunner to simplify running the server"
   ]
  },
  {
   "cell_type": "code",
   "execution_count": null,
   "metadata": {},
   "outputs": [],
   "source": [
    "from narupa.ase.openmm.runner import OpenMMIMDRunner, ImdParams"
   ]
  },
  {
   "cell_type": "code",
   "execution_count": null,
   "metadata": {
    "pycharm": {
     "is_executing": false,
     "name": "#%%\n"
    }
   },
   "outputs": [],
   "source": [
    "runner = OpenMMIMDRunner(simulation, ImdParams(port=0, time_step=0.5, verbose=False))"
   ]
  },
  {
   "cell_type": "code",
   "execution_count": null,
   "metadata": {},
   "outputs": [],
   "source": [
    "print(f'{runner.name}: serving on {runner.address}:{runner.port}')"
   ]
  },
  {
   "cell_type": "code",
   "execution_count": null,
   "metadata": {
    "pycharm": {
     "is_executing": false,
     "name": "#%%\n"
    },
    "scrolled": true
   },
   "outputs": [],
   "source": [
    "runner.run(20)"
   ]
  },
  {
   "cell_type": "markdown",
   "metadata": {},
   "source": [
    "Let's leave it running in the background "
   ]
  },
  {
   "cell_type": "code",
   "execution_count": null,
   "metadata": {},
   "outputs": [],
   "source": [
    "runner.run()"
   ]
  },
  {
   "cell_type": "markdown",
   "metadata": {},
   "source": [
    "## Controlling the Physics From the Notebook"
   ]
  },
  {
   "cell_type": "markdown",
   "metadata": {},
   "source": [
    "Since we're running the simulation with ASE, we can change the parameters while it's running. \n",
    "The cell below sets up some methods for changing the temperature, friction and timestep"
   ]
  },
  {
   "cell_type": "code",
   "execution_count": null,
   "metadata": {
    "pycharm": {
     "is_executing": false,
     "name": "#%%\n"
    }
   },
   "outputs": [],
   "source": [
    "temp_min_val = 0\n",
    "temp_max_val = 10000\n",
    "friction_min_val = 0.01\n",
    "friction_max_val = 100\n",
    "timestep_min_val = 0.01\n",
    "timestep_max_val = 1.5\n",
    "import ase.units as units\n",
    "\n",
    "def set_temperature(temperature=300):\n",
    "    \"\"\"\n",
    "    Sets the temperature in the ASE simulation.\n",
    "\n",
    "    :param temperature: Temperature to set, in kelvin.\n",
    "    \"\"\"\n",
    "\n",
    "    if not temp_min_val <= temperature <= temp_max_val:\n",
    "        raise ValueError(f'Temperature must be in range {temp_min_val} - {temp_max_val} Kelvin.')\n",
    "    runner.dynamics.set_temperature(temperature * units.kB)\n",
    "\n",
    "\n",
    "def set_friction(friction=1):\n",
    "    \"\"\"\n",
    "    Sets the friction in the ASE simulation.\n",
    "\n",
    "    :param friction: Friction, in ASE units * 1000, for visualisation purposes\n",
    "    \"\"\"\n",
    "\n",
    "    if not friction_min_val <= friction <= friction_max_val:\n",
    "        raise ValueError(f'Friction must be in range {friction_min_val} - {friction_max_val}.')\n",
    "    runner.dynamics.set_friction(friction / 1000.0)\n",
    "\n",
    "\n",
    "def set_timestep(timestep=0.5):\n",
    "    \"\"\"\n",
    "    Sets the timestep in the ASE simulation.\n",
    "\n",
    "    :param timestep: Timestep, in femtoseconds.\n",
    "    \"\"\"\n",
    "\n",
    "    if not timestep_min_val <= timestep <= timestep_max_val:\n",
    "        raise ValueError(f'Timestep must be in range {timestep_min_val} - {timestep_max_val}')\n",
    "    timestep = timestep * units.fs\n",
    "    runner.dynamics.set_timestep(timestep)"
   ]
  },
  {
   "cell_type": "markdown",
   "metadata": {},
   "source": [
    "Now we set up some sliders and buttons so we can adjust these on the fly in the notebook"
   ]
  },
  {
   "cell_type": "code",
   "execution_count": null,
   "metadata": {
    "pycharm": {
     "is_executing": false
    }
   },
   "outputs": [],
   "source": [
    "# imports for sliders\n",
    "from ipywidgets import interact\n",
    "import ipywidgets as widgets\n",
    "from IPython.display import display"
   ]
  },
  {
   "cell_type": "code",
   "execution_count": null,
   "metadata": {
    "pycharm": {
     "is_executing": false
    }
   },
   "outputs": [],
   "source": [
    "# Sliders for temperature, friction and timestep\n",
    "interact(set_temperature, temperature=(temp_min_val,temp_max_val));\n",
    "interact(set_friction, friction=(friction_min_val,friction_max_val, 1.0));\n",
    "interact(set_timestep, timestep=(timestep_min_val,timestep_max_val, 0.01));\n",
    "\n",
    "# buttons and toggles for playing and reset\n",
    "reset_button = widgets.Button(description=\"Restart Simulation\")\n",
    "play_button = widgets.ToggleButton(description=\"Playing\")\n",
    "output = widgets.Output()\n",
    "display(reset_button, output)\n",
    "display(play_button, output)\n",
    "\n",
    "def on_reset_clicked(b):\n",
    "    with output:\n",
    "        runner.imd.reset()\n",
    "\n",
    "def on_play_clicked(obj):\n",
    "    with output:\n",
    "        if obj['new']:  \n",
    "            runner.imd.play()\n",
    "        else:\n",
    "            runner.imd.pause()\n",
    "\n",
    "reset_button.on_click(on_reset_clicked)\n",
    "play_button.observe(on_play_clicked, 'value')"
   ]
  },
  {
   "cell_type": "markdown",
   "metadata": {},
   "source": [
    "Enter the server in VR and see how the dynamics change when you lower the temperature and and massively increase the friction!"
   ]
  },
  {
   "cell_type": "markdown",
   "metadata": {},
   "source": [
    "## Remote Control Commands"
   ]
  },
  {
   "cell_type": "markdown",
   "metadata": {},
   "source": [
    "While controlling these parameters from the notebook is pretty cool, doing it from VR or a dedicated application would be even better. \n",
    "\n",
    "Narupa provides a mechanism for doing this via *commands*. A command consists of a command name and a handler function to call when the client requests to run a command by that name.\n",
    "\n",
    "Let's set up our timestep, friction and temperature methods as commands"
   ]
  },
  {
   "cell_type": "code",
   "execution_count": null,
   "metadata": {
    "pycharm": {
     "is_executing": false,
     "name": "#%%\n"
    }
   },
   "outputs": [],
   "source": [
    "# Methods for interacting with the simulation.\n",
    "TIMESTEP_COMMAND = \"sim/timestep\"\n",
    "FRICTION_COMMAND = \"sim/friction\"\n",
    "TEMPERATURE_COMMAND = \"sim/temperature\"\n",
    "\n",
    "# the following line unregisters the commands if they've already been registered. \n",
    "for command in [TIMESTEP_COMMAND, FRICTION_COMMAND, TEMPERATURE_COMMAND]:\n",
    "    try:\n",
    "        runner.app_server.server.unregister_command(command)\n",
    "    except:\n",
    "        pass\n",
    "\n",
    "runner.app_server.server.register_command(TIMESTEP_COMMAND, set_timestep)\n",
    "runner.app_server.server.register_command(TEMPERATURE_COMMAND, set_temperature)\n",
    "runner.app_server.server.register_command(FRICTION_COMMAND, set_friction)"
   ]
  },
  {
   "cell_type": "markdown",
   "metadata": {},
   "source": [
    "Now, we can connect a client, and call the commands"
   ]
  },
  {
   "cell_type": "code",
   "execution_count": null,
   "metadata": {},
   "outputs": [],
   "source": [
    "from narupa.app import NarupaImdClient\n",
    "client =  NarupaImdClient.connect_to_single_server(port=runner.port)    "
   ]
  },
  {
   "cell_type": "markdown",
   "metadata": {},
   "source": [
    "We can see all the available commands, note that play, pause, reset and step are already registered, as are the ones we've just added "
   ]
  },
  {
   "cell_type": "code",
   "execution_count": null,
   "metadata": {},
   "outputs": [],
   "source": [
    "commands = client.update_available_commands();\n",
    "dict(commands).keys()"
   ]
  },
  {
   "cell_type": "markdown",
   "metadata": {},
   "source": [
    "So now we can set the temperature remotely (try this on another computer!):"
   ]
  },
  {
   "cell_type": "code",
   "execution_count": null,
   "metadata": {},
   "outputs": [],
   "source": [
    "client.run_command('sim/temperature', temperature=200);\n",
    "# print out the temperature to check it's worked, we have to convert from ASE units to Kelvin\n",
    "runner.dynamics.temp / units.kB"
   ]
  },
  {
   "cell_type": "markdown",
   "metadata": {},
   "source": [
    "With this functionality, you could write your own UI in Unity with our [libraries](https://gitlab.com/intangiblerealities/narupa-applications/narupa-imd/-/blob/master/Assets/Plugins/Narupa/Grpc/GrpcClient.cs#L54), a python web app, or even [C++](https://gitlab.com/intangiblerealities/narupatools/narupa-protocol-cpp)."
   ]
  },
  {
   "cell_type": "markdown",
   "metadata": {},
   "source": [
    "## Gracefully Terminate"
   ]
  },
  {
   "cell_type": "code",
   "execution_count": null,
   "metadata": {
    "pycharm": {
     "is_executing": false
    }
   },
   "outputs": [],
   "source": [
    "client.close()\n",
    "runner.close()"
   ]
  },
  {
   "cell_type": "markdown",
   "metadata": {},
   "source": [
    "## Next Steps\n",
    "\n",
    "* Explore setting up [commands and synchronizing state](../fundamentals/commands_and_state.ipynb)"
   ]
  },
  {
   "cell_type": "code",
   "execution_count": null,
   "metadata": {},
   "outputs": [],
   "source": []
  }
 ],
 "metadata": {
  "kernelspec": {
   "display_name": "Python 3",
   "language": "python",
   "name": "python3"
  },
  "language_info": {
   "codemirror_mode": {
    "name": "ipython",
    "version": 3
   },
   "file_extension": ".py",
   "mimetype": "text/x-python",
   "name": "python",
   "nbconvert_exporter": "python",
   "pygments_lexer": "ipython3",
   "version": "3.7.3"
  },
  "pycharm": {
   "stem_cell": {
    "cell_type": "raw",
    "metadata": {
     "collapsed": false
    },
    "source": []
   }
  }
 },
 "nbformat": 4,
 "nbformat_minor": 1
}
