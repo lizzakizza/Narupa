{
 "cells": [
  {
   "cell_type": "markdown",
   "metadata": {},
   "source": [
    "# Visualizing Structures with MDAnalysis and Narupa"
   ]
  },
  {
   "cell_type": "markdown",
   "metadata": {},
   "source": [
    "In this example, we visualize LSD bound into 5-HT2B receptor with MDAnalysis. We'll explore setting up custom visualizations that will be synchronized with users in VR"
   ]
  },
  {
   "cell_type": "markdown",
   "metadata": {},
   "source": [
    "## Serving the structure as a Narupa frame"
   ]
  },
  {
   "cell_type": "markdown",
   "metadata": {},
   "source": [
    "First, we're going to read in the system with MDAnalysis. MDAnalysis has to guess the bonds because there aren't any defined in the PDB file, so it'll take a while."
   ]
  },
  {
   "cell_type": "code",
   "execution_count": null,
   "metadata": {},
   "outputs": [],
   "source": [
    "import MDAnalysis as mda"
   ]
  },
  {
   "cell_type": "code",
   "execution_count": null,
   "metadata": {},
   "outputs": [],
   "source": [
    "universe = mda.Universe(\n",
    "    'serotonine_receptor.pdb',\n",
    "    guess_bonds=True, vdwradii={'Na': 0, 'Cl': 0},\n",
    ")"
   ]
  },
  {
   "cell_type": "markdown",
   "metadata": {},
   "source": [
    "Next, we set up a Narupa server that's set up for serving structures, or as we call them, *frames*. "
   ]
  },
  {
   "cell_type": "code",
   "execution_count": null,
   "metadata": {},
   "outputs": [],
   "source": [
    "from narupa.app import NarupaFrameApplication"
   ]
  },
  {
   "cell_type": "code",
   "execution_count": null,
   "metadata": {},
   "outputs": [],
   "source": [
    "frame_server = NarupaFrameApplication.basic_server(port=0) # Let the OS choose a port for us"
   ]
  },
  {
   "cell_type": "code",
   "execution_count": null,
   "metadata": {},
   "outputs": [],
   "source": [
    "print(f'{frame_server.name}, serving at {frame_server.address}:{frame_server.port}')"
   ]
  },
  {
   "cell_type": "markdown",
   "metadata": {},
   "source": [
    "Now, let's convert the MDAnalysis universe to the Narupa frame object and send it! We have a handy method for doing just that"
   ]
  },
  {
   "cell_type": "code",
   "execution_count": null,
   "metadata": {},
   "outputs": [],
   "source": [
    "from narupa.mdanalysis import mdanalysis_to_frame_data"
   ]
  },
  {
   "cell_type": "code",
   "execution_count": null,
   "metadata": {},
   "outputs": [],
   "source": [
    "frame = mdanalysis_to_frame_data(universe)"
   ]
  },
  {
   "cell_type": "code",
   "execution_count": null,
   "metadata": {},
   "outputs": [],
   "source": [
    "frame_server.frame_publisher.send_frame(0,frame)"
   ]
  },
  {
   "cell_type": "markdown",
   "metadata": {},
   "source": [
    "Done! If you connect to the server from VR, you'll see something like this:\n",
    "\n",
    "![LSD Ball and Stick](images/lsd_ball_and_stick.png)\n"
   ]
  },
  {
   "cell_type": "markdown",
   "metadata": {},
   "source": [
    "# Let's make it look good"
   ]
  },
  {
   "cell_type": "markdown",
   "metadata": {},
   "source": [
    "The ball and stick representation is fine, but we can customize it right here from the notebook. First, we connect a client, which will ask the server to change how things look.\n",
    "\n",
    "**Note**: In future releases, the following will probably be simplified, and you'll be able to do it from within VR."
   ]
  },
  {
   "cell_type": "code",
   "execution_count": null,
   "metadata": {},
   "outputs": [],
   "source": [
    "from narupa.app import NarupaImdClient"
   ]
  },
  {
   "cell_type": "code",
   "execution_count": null,
   "metadata": {},
   "outputs": [],
   "source": [
    "client = NarupaImdClient.connect_to_single_server(port=frame_server.port)"
   ]
  },
  {
   "cell_type": "markdown",
   "metadata": {},
   "source": [
    "We need to join the multiplayer, so we can update settings for everyone else (i.e., your VR app)"
   ]
  },
  {
   "cell_type": "code",
   "execution_count": null,
   "metadata": {},
   "outputs": [],
   "source": [
    "client.subscribe_multiplayer()"
   ]
  },
  {
   "cell_type": "markdown",
   "metadata": {},
   "source": [
    "The first thing we'll do is hide the *root* layer, and slowly layer things back up.\n",
    "The `modify()` context allows us to make a bunch of changes, which will all be sent to everyone when we're done"
   ]
  },
  {
   "cell_type": "code",
   "execution_count": null,
   "metadata": {},
   "outputs": [],
   "source": [
    "root_selection = client.root_selection\n",
    "with root_selection.modify():\n",
    "    root_selection.hide = True"
   ]
  },
  {
   "cell_type": "markdown",
   "metadata": {},
   "source": [
    "Now, let's set up some CPK colours for the main atoms"
   ]
  },
  {
   "cell_type": "code",
   "execution_count": null,
   "metadata": {},
   "outputs": [],
   "source": [
    "cpk_colours = {\n",
    "    'N': 'blue',\n",
    "    'P': '#dca523',\n",
    "    'C': '#c0c0c0',\n",
    "    'O': '#fc1c03',\n",
    "    'S': '#e9ce16'\n",
    "}"
   ]
  },
  {
   "cell_type": "markdown",
   "metadata": {},
   "source": [
    "We define a utility method that converts from an MDAnalysis selection string to an array of integers that define a selection in Narupa"
   ]
  },
  {
   "cell_type": "code",
   "execution_count": null,
   "metadata": {},
   "outputs": [],
   "source": [
    "def generate_mdanalysis_selection(selection: str, universe):\n",
    "    idx_array = universe.select_atoms(selection).indices\n",
    "    return map(int, idx_array)"
   ]
  },
  {
   "cell_type": "markdown",
   "metadata": {},
   "source": [
    "Create a selection of anything that's a protein, and ignore hydrogens"
   ]
  },
  {
   "cell_type": "code",
   "execution_count": null,
   "metadata": {},
   "outputs": [],
   "source": [
    "protein = client.create_selection(\"Protein\", [])\n",
    "with protein.modify():\n",
    "    protein.set_particles(generate_mdanalysis_selection(\"protein and not type H\", universe))"
   ]
  },
  {
   "cell_type": "markdown",
   "metadata": {},
   "source": [
    "Next, create a selection of the LSD (and other ligands)"
   ]
  },
  {
   "cell_type": "code",
   "execution_count": null,
   "metadata": {},
   "outputs": [],
   "source": [
    "# Select ligands\n",
    "ligands = client.create_selection(\"Ligands\", [])\n",
    "with ligands.modify():\n",
    "    ligands.set_particles(generate_mdanalysis_selection(\"not protein and not resname DPPC\", universe))"
   ]
  },
  {
   "cell_type": "markdown",
   "metadata": {},
   "source": [
    "And we happen to know that DPPC refers to the lipids, so we grab that too"
   ]
  },
  {
   "cell_type": "code",
   "execution_count": null,
   "metadata": {},
   "outputs": [],
   "source": [
    "lipids = client.create_selection(\"Lipids\", [])\n",
    "with lipids.modify():\n",
    "    lipids.set_particles(generate_mdanalysis_selection(\"resname DPPC\", universe))"
   ]
  },
  {
   "cell_type": "markdown",
   "metadata": {},
   "source": [
    "We define another useful function, that generates a colour gradients from matplotlib. "
   ]
  },
  {
   "cell_type": "code",
   "execution_count": null,
   "metadata": {},
   "outputs": [],
   "source": [
    "import matplotlib.cm\n",
    "def get_matplotlib_gradient(name: str):\n",
    "    cmap = matplotlib.cm.get_cmap(name)\n",
    "    return list(list(cmap(x/7)) for x in range(0, 8, 1))"
   ]
  },
  {
   "cell_type": "markdown",
   "metadata": {},
   "source": [
    "Now, we'll render the protein using our tetrahedral spline renderer, coloured with the lovely viridis colour scheme. \n",
    "We do this by editting the `renderer` settings, which is just a dictionary of settings. "
   ]
  },
  {
   "cell_type": "code",
   "execution_count": null,
   "metadata": {},
   "outputs": [],
   "source": [
    "# Render the protein\n",
    "with protein.modify():\n",
    "    protein.renderer = {\n",
    "            'sequence': 'polypeptide',\n",
    "            'color': {\n",
    "                'type': 'residue index in entity',\n",
    "                'gradient': get_matplotlib_gradient('viridis')\n",
    "            },\n",
    "            'render': 'geometric spline'\n",
    "        }\n",
    "    protein.interaction_method = 'none'"
   ]
  },
  {
   "cell_type": "markdown",
   "metadata": {},
   "source": [
    "Alternatively, you can colour by secondary structure:"
   ]
  },
  {
   "cell_type": "code",
   "execution_count": null,
   "metadata": {},
   "outputs": [],
   "source": [
    "with protein.modify():\n",
    "    protein.renderer = 'cartoon'\n",
    "    protein.interaction_method = 'none'"
   ]
  },
  {
   "cell_type": "markdown",
   "metadata": {},
   "source": [
    "We'll add the ligands back in with CPK liquorice"
   ]
  },
  {
   "cell_type": "code",
   "execution_count": null,
   "metadata": {},
   "outputs": [],
   "source": [
    "with ligands.modify():\n",
    "    ligands.renderer = {\n",
    "            'color': {\n",
    "                'type': 'cpk',\n",
    "                'scheme': cpk_colours,\n",
    "            },\n",
    "            'scale': 0.1,\n",
    "            'render': 'liquorice'\n",
    "        }\n",
    "    ligands.interaction_method = 'none'"
   ]
  },
  {
   "cell_type": "markdown",
   "metadata": {},
   "source": [
    "And the lipids with a scaled down liquorice"
   ]
  },
  {
   "cell_type": "code",
   "execution_count": null,
   "metadata": {},
   "outputs": [],
   "source": [
    "with lipids.modify():\n",
    "    lipids.renderer = {\n",
    "            'color': {\n",
    "                'type': 'cpk',\n",
    "                'scheme': cpk_colours,\n",
    "            },\n",
    "            'scale': 0.01,\n",
    "            'render': 'liquorice'\n",
    "        }\n",
    "    lipids.interaction_method = 'none'"
   ]
  },
  {
   "cell_type": "markdown",
   "metadata": {},
   "source": [
    "You may find the lipids are a bit much - you can easily hide them. Just uncomment out and run these lines"
   ]
  },
  {
   "cell_type": "code",
   "execution_count": null,
   "metadata": {},
   "outputs": [],
   "source": [
    "# with lipids.modify():\n",
    "#     lipids.hide = True"
   ]
  },
  {
   "cell_type": "markdown",
   "metadata": {},
   "source": [
    "## Visualization based on distance"
   ]
  },
  {
   "cell_type": "markdown",
   "metadata": {},
   "source": [
    "Finally, we'll render the sidechains near ligand"
   ]
  },
  {
   "cell_type": "code",
   "execution_count": null,
   "metadata": {},
   "outputs": [],
   "source": [
    "nearby = client.create_selection(\"Nearby\", [])"
   ]
  },
  {
   "cell_type": "code",
   "execution_count": null,
   "metadata": {},
   "outputs": [],
   "source": [
    "with nearby.modify():\n",
    "    nearby.set_particles(generate_mdanalysis_selection(\"(protein and (not backbone or name CA)) and same resid as around 4 resname 7LD\", universe))"
   ]
  },
  {
   "cell_type": "code",
   "execution_count": null,
   "metadata": {},
   "outputs": [],
   "source": [
    "with nearby.modify():\n",
    "    nearby.renderer = {\n",
    "            'color': {\n",
    "                'type': 'residue index in entity',\n",
    "                'gradient': get_matplotlib_gradient('viridis')\n",
    "            },\n",
    "            'scale': 0.05,\n",
    "            'render': 'cycles'\n",
    "        }\n",
    "    nearby.interaction_method = 'none'"
   ]
  },
  {
   "cell_type": "code",
   "execution_count": null,
   "metadata": {},
   "outputs": [],
   "source": [
    "with nearby.modify():\n",
    "    nearby.renderer = {\n",
    "            'color': {\n",
    "                'type': 'cpk',\n",
    "                'scheme': cpk_colours,\n",
    "            },\n",
    "            'scale': 0.05,\n",
    "            'render': 'liquorice'\n",
    "        }\n",
    "    nearby.interaction_method = 'none'"
   ]
  },
  {
   "cell_type": "markdown",
   "metadata": {},
   "source": [
    "Depending on which cells you ran, you'll have something that looks like this, much better! \n",
    "\n",
    "![LSD Narupa](images/lsd_narupa.png)"
   ]
  },
  {
   "cell_type": "markdown",
   "metadata": {},
   "source": [
    "# Tidying Up"
   ]
  },
  {
   "cell_type": "code",
   "execution_count": null,
   "metadata": {},
   "outputs": [],
   "source": [
    "client.clear_selections()"
   ]
  },
  {
   "cell_type": "code",
   "execution_count": null,
   "metadata": {},
   "outputs": [],
   "source": [
    "client.close()"
   ]
  },
  {
   "cell_type": "code",
   "execution_count": null,
   "metadata": {},
   "outputs": [],
   "source": [
    "frame_server.close()"
   ]
  },
  {
   "cell_type": "markdown",
   "metadata": {},
   "source": [
    "# Next Steps\n",
    "\n",
    "* Build your own [VR trajectory viewer](./mdanalysis_trajectory.ipynb) with MDAnalysis and Narupa\n",
    "* Dig into how [frames](../fundamentals/frame.ipynb) are constructed under the hood. "
   ]
  },
  {
   "cell_type": "code",
   "execution_count": null,
   "metadata": {},
   "outputs": [],
   "source": []
  }
 ],
 "metadata": {
  "kernelspec": {
   "display_name": "Python 3",
   "language": "python",
   "name": "python3"
  },
  "language_info": {
   "codemirror_mode": {
    "name": "ipython",
    "version": 3
   },
   "file_extension": ".py",
   "mimetype": "text/x-python",
   "name": "python",
   "nbconvert_exporter": "python",
   "pygments_lexer": "ipython3",
   "version": "3.7.6"
  },
  "pycharm": {
   "stem_cell": {
    "cell_type": "raw",
    "metadata": {
     "collapsed": false
    },
    "source": []
   }
  }
 },
 "nbformat": 4,
 "nbformat_minor": 2
}
