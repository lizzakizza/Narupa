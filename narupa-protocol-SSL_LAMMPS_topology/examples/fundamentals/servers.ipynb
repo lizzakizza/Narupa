{
 "cells": [
  {
   "cell_type": "markdown",
   "metadata": {},
   "source": [
    "# Narupa Servers"
   ]
  },
  {
   "cell_type": "markdown",
   "metadata": {},
   "source": [
    "In this notebook, we explore what goes into a Narupa server, and how to choose a flavour for a given application.\n",
    "\n",
    "This gets into some of the nuts and bolts of how Narupa works under the hood, including some GRPC details. While understanding GRPC is not necessary, it [will help](http://grpc.io)."
   ]
  },
  {
   "cell_type": "markdown",
   "metadata": {},
   "source": [
    "## The Narupa Server Architecture"
   ]
  },
  {
   "cell_type": "markdown",
   "metadata": {},
   "source": [
    "Narupa uses a client-server model. This means we have some stuff running on a server, and some stuff running on a client, and they talk to each other. It's exactly how most apps you run on your phone work, and websites:\n",
    "\n",
    "![Narupa Client Server](./images/narupa_client_server.png)\n",
    "\n",
    "In Narupa, the server is in charge of setting up, managing and running simulations and models. This could be trajectory serving, interactive molecular dynamics, or minimizing structures produced in the builder. \n",
    "\n",
    "The client is any application that connects to the server. We generally have two types of client, a VR client for viewing and manipulating simulations in VR, and python clients for experimentation and testing. However, our framework is flexible enough that we could have other types of clients, such as web apps."
   ]
  },
  {
   "cell_type": "markdown",
   "metadata": {},
   "source": [
    "### GRPC"
   ]
  },
  {
   "cell_type": "markdown",
   "metadata": {},
   "source": [
    "The clients and the server talk to each other using [GRPC](grpc.io). GRPC is an application level communication protocol based on the idea of Remote Procedure Call. A client calls *procedures* (methods) on servers *remotely*, and then the server returns the result at some point in the future. GRPC handles all of the details of sending packets over the network for us, letting us focus on building the application. \n",
    "\n",
    "GRPC has a number of features that are good for us: \n",
    "\n",
    "* High performance. \n",
    "* Ability to do streaming (send lots of data from the server) and bidrectional streaming (send lots of data in both directions between client and server). \n",
    "* Works in many languages, including python and C#."
   ]
  },
  {
   "cell_type": "markdown",
   "metadata": {},
   "source": [
    "### GRPC Services"
   ]
  },
  {
   "cell_type": "markdown",
   "metadata": {},
   "source": [
    "In GRPC, we create services that lay out a definition of what a server can do. Combining these services produces an application. For example, the Narupa IMD server uses a TrajectoryService, an IMDService, a MultiplayerService, a CommandService and a StateService: \n",
    "\n",
    "![Narupa IMD Application](./images/narupa_imd_server.png)\n",
    "\n",
    "In the above image, we left out the Command service and State service as implicit. \n",
    " \n",
    "Let's look at the Command Service (see the [commands notebook](./commands_and_state.ipynb)), which is used in Narupa to run arbitrary commands. The definition is written in a protobuf file.\n",
    "\n",
    "```proto\n",
    "package narupa.protocol.command;\n",
    "\n",
    "service Command {\n",
    "\n",
    "    /* Get a list of all the commands available on this service */\n",
    "    rpc GetCommands (GetCommandsRequest) returns (GetCommandsReply) {}\n",
    "\n",
    "    /* Runs a command on the service */\n",
    "    rpc RunCommand (CommandMessage) returns (CommandReply) {}\n",
    "}\n",
    "\n",
    "message GetCommandsRequest {\n",
    "\n",
    "}\n",
    "\n",
    "message GetCommandsReply{\n",
    "    repeated CommandMessage commands = 1;\n",
    "}\n",
    "\n",
    "message CommandReply {\n",
    "    google.protobuf.Struct result = 1;\n",
    "}\n",
    "\n",
    "message CommandMessage {\n",
    "    string name = 1;\n",
    "    google.protobuf.Struct arguments = 2;\n",
    "}\n",
    "```\n"
   ]
  },
  {
   "cell_type": "markdown",
   "metadata": {},
   "source": [
    "So we've defined a service called `Command`, which has two methods: \n",
    "\n",
    "* `RunCommand` - takes a `CommandMessage`, consisting of a `name` and a dictionary-like Struct of `arguments`, and returns a `CommandReply`, which is contains a dictionary of results. \n",
    "* `GetCommands` - takes a `GetCommandsRequest`, which is an empty message, and returns as `GetCommandsReply` which is a list (`repeated`) of `CommandMessages`. The `CommandMessage`, in turn, consists of a `name`, which tells us the name of the command, and a Struct (a JSON-style dictionary) of default `arguments`. \n"
   ]
  },
  {
   "cell_type": "markdown",
   "metadata": {},
   "source": [
    "To build a server, we take these service definitions and write the code that actually does what this specification says it should do. Then for clients, we just *call* these functions, knowing that they will produce the results we need. "
   ]
  },
  {
   "cell_type": "markdown",
   "metadata": {},
   "source": [
    "## The Server Stack"
   ]
  },
  {
   "cell_type": "markdown",
   "metadata": {},
   "source": [
    "Narupa servers are just a collection of these GRPC services, with some bells and whistles attached."
   ]
  },
  {
   "cell_type": "markdown",
   "metadata": {},
   "source": [
    "The Narupa libraries have a lot of servers lying around:"
   ]
  },
  {
   "cell_type": "code",
   "execution_count": null,
   "metadata": {},
   "outputs": [],
   "source": [
    "from narupa.app import NarupaApplicationServer, NarupaFrameApplication, NarupaImdApplication\n",
    "from narupa.core import NarupaServer, GrpcServer\n",
    "from narupa.trajectory import FrameServer\n",
    "from narupa.imd import ImdServer"
   ]
  },
  {
   "cell_type": "markdown",
   "metadata": {},
   "source": [
    "What do these all do? What should we be using?\n",
    "\n",
    "In what follows, we'll work our way up to high-level application servers, starting from the bottom of the stack with the simplest server"
   ]
  },
  {
   "cell_type": "markdown",
   "metadata": {},
   "source": [
    "# TLDR"
   ]
  },
  {
   "cell_type": "markdown",
   "metadata": {},
   "source": [
    "If you want to send Narupa Frames, e.g. trajectory viewing, you probably want the [NarupaFrameApplication](https://narupa.readthedocs.io/en/latest/python/narupa.app.frame_app.html).\n",
    "\n",
    "If you want to set up an interactive molecular dynamics simulation, you probably want the [NarupaImdApplication](https://narupa.readthedocs.io/en/latest/python/narupa.app.imd_app.html)."
   ]
  },
  {
   "cell_type": "markdown",
   "metadata": {},
   "source": [
    "### GRPC Server"
   ]
  },
  {
   "cell_type": "markdown",
   "metadata": {},
   "source": [
    "It all starts with the Grpc Server, which forms the base of all other servers."
   ]
  },
  {
   "cell_type": "code",
   "execution_count": null,
   "metadata": {},
   "outputs": [],
   "source": [
    "grpc_server = GrpcServer(address='localhost', port=0)"
   ]
  },
  {
   "cell_type": "markdown",
   "metadata": {},
   "source": [
    "By itself, this server doesn't do much other than set up the underlying [gRPC server](http://grpc.io) with a few little helpers:"
   ]
  },
  {
   "cell_type": "code",
   "execution_count": null,
   "metadata": {},
   "outputs": [],
   "source": [
    "print(grpc_server.__doc__)"
   ]
  },
  {
   "cell_type": "code",
   "execution_count": null,
   "metadata": {},
   "outputs": [],
   "source": [
    "[x for x in dir(grpc_server) if not x.startswith('_')]"
   ]
  },
  {
   "cell_type": "markdown",
   "metadata": {},
   "source": [
    "Mainly, it provides a method to gracefully close, access to the address and port the server is running on, and the ability to set up new gRPC services. "
   ]
  },
  {
   "cell_type": "markdown",
   "metadata": {},
   "source": [
    "If you just want to run a python GRPC server with a couple of little helpers, this is the one for you."
   ]
  },
  {
   "cell_type": "markdown",
   "metadata": {},
   "source": [
    "In practice, Narupa servers always want commands and state synchronisation, so let's add those. "
   ]
  },
  {
   "cell_type": "code",
   "execution_count": null,
   "metadata": {},
   "outputs": [],
   "source": [
    "from narupa.command import CommandService\n",
    "from narupa.state.state_service import StateService\n",
    "\n",
    "command_service = CommandService()\n",
    "state_service = StateService()"
   ]
  },
  {
   "cell_type": "markdown",
   "metadata": {},
   "source": [
    "These are the python implementations of the Command and State services. If we add them to the server, it will gain the ability to run commands and synchronise state (see the [commands and state](./commands_and_state.ipynb) notebook)."
   ]
  },
  {
   "cell_type": "code",
   "execution_count": null,
   "metadata": {},
   "outputs": [],
   "source": [
    "grpc_server.add_service(command_service)\n",
    "grpc_server.add_service(state_service)"
   ]
  },
  {
   "cell_type": "code",
   "execution_count": null,
   "metadata": {},
   "outputs": [],
   "source": [
    "def hello():\n",
    "    print('hi!')\n",
    "\n",
    "command_service.register_command('hello', hello)"
   ]
  },
  {
   "cell_type": "markdown",
   "metadata": {},
   "source": [
    "Let's check that worked"
   ]
  },
  {
   "cell_type": "code",
   "execution_count": null,
   "metadata": {},
   "outputs": [],
   "source": [
    "from narupa.core import NarupaClient\n",
    "\n",
    "with NarupaClient.establish_channel(address=grpc_server.address, port=grpc_server.port) as client:\n",
    "    client.run_command('hello')"
   ]
  },
  {
   "cell_type": "markdown",
   "metadata": {},
   "source": [
    "Cool! We've just created a functioning Narupa server! If you wanted to write your own GRPC services, you could add them with the same methodology, adding them to the server with `add_service`."
   ]
  },
  {
   "cell_type": "code",
   "execution_count": null,
   "metadata": {},
   "outputs": [],
   "source": [
    "grpc_server.close()"
   ]
  },
  {
   "cell_type": "markdown",
   "metadata": {},
   "source": [
    "### Narupa Server"
   ]
  },
  {
   "cell_type": "markdown",
   "metadata": {},
   "source": [
    "Since we almost always want commands and state synchronisation, we've created the Narupa Server object that does exactly that, so you don't have to type the above. "
   ]
  },
  {
   "cell_type": "code",
   "execution_count": null,
   "metadata": {},
   "outputs": [],
   "source": [
    "narupa_server = NarupaServer(address='localhost', port=0)"
   ]
  },
  {
   "cell_type": "code",
   "execution_count": null,
   "metadata": {},
   "outputs": [],
   "source": [
    "print(narupa_server.__doc__)"
   ]
  },
  {
   "cell_type": "code",
   "execution_count": null,
   "metadata": {},
   "outputs": [],
   "source": [
    "narupa_server.register_command('narupa_hello', hello)"
   ]
  },
  {
   "cell_type": "code",
   "execution_count": null,
   "metadata": {},
   "outputs": [],
   "source": [
    "with NarupaClient.establish_channel(address=narupa_server.address, port=narupa_server.port) as client:\n",
    "    client.run_command('narupa_hello')"
   ]
  },
  {
   "cell_type": "markdown",
   "metadata": {},
   "source": [
    "That's the Narupa server. It's just a GRPC server with the command and state service added. "
   ]
  },
  {
   "cell_type": "markdown",
   "metadata": {},
   "source": [
    "### Frame Server"
   ]
  },
  {
   "cell_type": "markdown",
   "metadata": {},
   "source": [
    "Most Narupa applications want to transmit some sort of simulation data, i.e. Frames, to clients. For that, we need the frame publishing service. Let's add that to our server:"
   ]
  },
  {
   "cell_type": "code",
   "execution_count": null,
   "metadata": {},
   "outputs": [],
   "source": [
    "from narupa.trajectory import FramePublisher\n",
    "from narupa.trajectory import FrameData"
   ]
  },
  {
   "cell_type": "code",
   "execution_count": null,
   "metadata": {},
   "outputs": [],
   "source": [
    "frame_publisher = FramePublisher()"
   ]
  },
  {
   "cell_type": "code",
   "execution_count": null,
   "metadata": {},
   "outputs": [],
   "source": [
    "narupa_server.add_service(frame_publisher)"
   ]
  },
  {
   "cell_type": "code",
   "execution_count": null,
   "metadata": {},
   "outputs": [],
   "source": [
    "frame = FrameData()\n",
    "frame.values['hello'] = 'hello'\n",
    "frame_publisher.send_frame(0, frame)"
   ]
  },
  {
   "cell_type": "markdown",
   "metadata": {},
   "source": [
    "Let's check that we can connect and receive frames. The `NarupaImdClient` class is a python client that knows how to receive frames."
   ]
  },
  {
   "cell_type": "code",
   "execution_count": null,
   "metadata": {},
   "outputs": [],
   "source": [
    "from narupa.app import NarupaImdClient\n",
    "import time \n",
    "\n",
    "with NarupaImdClient.connect_to_single_server(address=narupa_server.address, port=narupa_server.port) as client:\n",
    "    client.subscribe_to_frames()\n",
    "    client.wait_until_first_frame()\n",
    "    print(client.first_frame)"
   ]
  },
  {
   "cell_type": "code",
   "execution_count": null,
   "metadata": {},
   "outputs": [],
   "source": [
    "narupa_server.close()"
   ]
  },
  {
   "cell_type": "markdown",
   "metadata": {},
   "source": [
    "This is now a functioning frame server! If we wanted, we could connect to this from VR (if we sent something that looked like a molecule). See the [frames](./frames.ipynb) example notebook for more details on setting up Narupa frames."
   ]
  },
  {
   "cell_type": "markdown",
   "metadata": {},
   "source": [
    "Since this is common functionality, we wrap this in the `FrameServer`. Similarly, we do the same for multiplayer and IMD with the `MultiplayerServer` and `ImdServer`:"
   ]
  },
  {
   "cell_type": "code",
   "execution_count": null,
   "metadata": {},
   "outputs": [],
   "source": [
    "from narupa.trajectory import FrameServer"
   ]
  },
  {
   "cell_type": "code",
   "execution_count": null,
   "metadata": {},
   "outputs": [],
   "source": [
    "frame_server = FrameServer(address='localhost', port=0)"
   ]
  },
  {
   "cell_type": "code",
   "execution_count": null,
   "metadata": {},
   "outputs": [],
   "source": [
    "frame_server.send_frame(0, frame)"
   ]
  },
  {
   "cell_type": "code",
   "execution_count": null,
   "metadata": {},
   "outputs": [],
   "source": [
    "with NarupaImdClient.connect_to_single_server(address=frame_server.address, port=frame_server.port) as client:\n",
    "    client.subscribe_to_frames()\n",
    "    client.wait_until_first_frame()\n",
    "    print(client.first_frame)"
   ]
  },
  {
   "cell_type": "markdown",
   "metadata": {},
   "source": [
    "### Multiplayer"
   ]
  },
  {
   "cell_type": "markdown",
   "metadata": {},
   "source": [
    "The server itself is multiplayer agnostic--it provides the ability for clients to coordinate data via the State Service, but it doesn't understand how they are doing it. Clients subscribe to updates from the State Service, and send their own value updates:"
   ]
  },
  {
   "cell_type": "code",
   "execution_count": null,
   "metadata": {},
   "outputs": [],
   "source": [
    "with NarupaImdClient.connect_to_single_server(address=frame_server.address, port=frame_server.port) as client:\n",
    "    client.set_shared_value('a', 2)\n",
    "    with NarupaImdClient.connect_to_single_server(address=frame_server.address, port=frame_server.port) as second_client:\n",
    "        second_client.subscribe_multiplayer()\n",
    "        time.sleep(0.05) # Wait for messages to be received.\n",
    "        print(second_client.latest_multiplayer_values)"
   ]
  },
  {
   "cell_type": "markdown",
   "metadata": {},
   "source": [
    "### Discovery (advertising and finding services on a network)"
   ]
  },
  {
   "cell_type": "markdown",
   "metadata": {},
   "source": [
    "This is good if we know the address and port to connect to, but can we make it so we can autoconnect, or find it on the network?\n",
    "\n",
    "Yes! We can manually set up a Discovery server, so our server can be found on the local network."
   ]
  },
  {
   "cell_type": "code",
   "execution_count": null,
   "metadata": {},
   "outputs": [],
   "source": [
    "from narupa.essd import DiscoveryServer, ServiceHub, DiscoveryClient"
   ]
  },
  {
   "cell_type": "code",
   "execution_count": null,
   "metadata": {},
   "outputs": [],
   "source": [
    "discovery_server = DiscoveryServer()"
   ]
  },
  {
   "cell_type": "markdown",
   "metadata": {},
   "source": [
    "We define the service hub, specifying what services are available and which port they are running at."
   ]
  },
  {
   "cell_type": "code",
   "execution_count": null,
   "metadata": {},
   "outputs": [],
   "source": [
    "service_hub = ServiceHub(name=\"My Frame Server\", address=frame_server.address)\n",
    "service_hub.add_service(\"trajectory\", frame_server.port)\n",
    "service_hub.add_service(\"multiplayer\",frame_server.port)"
   ]
  },
  {
   "cell_type": "code",
   "execution_count": null,
   "metadata": {},
   "outputs": [],
   "source": [
    "discovery_server.register_service(service_hub)"
   ]
  },
  {
   "cell_type": "markdown",
   "metadata": {},
   "source": [
    "The discovery server will now be broadcasting the existence of the server! Let's search for it:"
   ]
  },
  {
   "cell_type": "code",
   "execution_count": null,
   "metadata": {},
   "outputs": [],
   "source": [
    "discovery_client = DiscoveryClient()"
   ]
  },
  {
   "cell_type": "code",
   "execution_count": null,
   "metadata": {},
   "outputs": [],
   "source": [
    "import pprint # pretty print\n",
    "pprint.pprint(list(discovery_client.search_for_services(search_time=1.0)))"
   ]
  },
  {
   "cell_type": "markdown",
   "metadata": {},
   "source": [
    "You may find some other servers that are running on the network, but hopefully your server was found!"
   ]
  },
  {
   "cell_type": "markdown",
   "metadata": {},
   "source": [
    "Now we can use the client's autoconnect functionality (note this may produce unexpected results if you've got multiple servers on the network):"
   ]
  },
  {
   "cell_type": "code",
   "execution_count": null,
   "metadata": {},
   "outputs": [],
   "source": [
    "with NarupaImdClient.autoconnect() as client:\n",
    "    client.subscribe_to_frames()\n",
    "    print(client.first_frame)"
   ]
  },
  {
   "cell_type": "code",
   "execution_count": null,
   "metadata": {},
   "outputs": [],
   "source": [
    "frame_server.close()"
   ]
  },
  {
   "cell_type": "markdown",
   "metadata": {},
   "source": [
    "## The Application Servers"
   ]
  },
  {
   "cell_type": "markdown",
   "metadata": {},
   "source": [
    "Phew, that was quite a lot of work! Luckily, we have a handy wrapper that does all of that for you, the `NarupaApplicationServer`."
   ]
  },
  {
   "cell_type": "code",
   "execution_count": null,
   "metadata": {},
   "outputs": [],
   "source": [
    "print(NarupaApplicationServer.__doc__)"
   ]
  },
  {
   "cell_type": "markdown",
   "metadata": {},
   "source": [
    "The `NarupaFrameApplication` and `NarupaImdApplication` classes inherit from the `NarupaApplicationServer`. The former adds frame support, while the latter adds both frame support and IMD support. Let's try it out."
   ]
  },
  {
   "cell_type": "code",
   "execution_count": null,
   "metadata": {},
   "outputs": [],
   "source": [
    "imd_app = NarupaImdApplication.basic_server(name=\"My First Narupa Imd App\", port=0)"
   ]
  },
  {
   "cell_type": "code",
   "execution_count": null,
   "metadata": {},
   "outputs": [],
   "source": [
    "[x for x in dir(imd_app) if not x.startswith('_')]"
   ]
  },
  {
   "cell_type": "markdown",
   "metadata": {},
   "source": [
    "If you were writing your own interactive molecular dynamics application, this is all you need. You can send frames, and you'll receive interactions that you can apply to your MD:\n",
    "\n",
    "Below, we simulate a client connecting, receiving a frame and sending an (empty) interaction."
   ]
  },
  {
   "cell_type": "code",
   "execution_count": null,
   "metadata": {},
   "outputs": [],
   "source": [
    "imd_app.frame_publisher.send_frame(0, frame)"
   ]
  },
  {
   "cell_type": "code",
   "execution_count": null,
   "metadata": {},
   "outputs": [],
   "source": [
    "from narupa.imd.particle_interaction import ParticleInteraction \n",
    "\n",
    "with NarupaImdClient.connect_to_single_server(port=imd_app.port) as client:\n",
    "    client.subscribe_to_frames()\n",
    "    interaction_id = client.start_interaction()\n",
    "    client.update_interaction(interaction_id, ParticleInteraction())\n",
    "    time.sleep(0.05)\n",
    "    print(f'Active interactions: {imd_app.imd.active_interactions}')\n",
    "    print(f'Frame Received: {client.first_frame}')"
   ]
  },
  {
   "cell_type": "code",
   "execution_count": null,
   "metadata": {},
   "outputs": [],
   "source": [
    "imd_app.close()"
   ]
  },
  {
   "cell_type": "markdown",
   "metadata": {},
   "source": [
    "## Summary "
   ]
  },
  {
   "cell_type": "markdown",
   "metadata": {},
   "source": [
    "In this notebook we've gone from the basic GRPC server all the way up to a full interactive molecular dynamics server with multiplayer, commands, and discovery. "
   ]
  },
  {
   "cell_type": "markdown",
   "metadata": {},
   "source": [
    "The final example is how applications in Narupa are actually built. For example, this is a sketch of how our Narupa ASE server works:\n",
    "\n",
    "![Narupa ASE](./images/narupa-ase.png)\n",
    "\n",
    "With these examples, combining frames, multiplayer and commands, you can build all sorts of things."
   ]
  },
  {
   "cell_type": "markdown",
   "metadata": {},
   "source": [
    "## Next Steps\n",
    "\n",
    "* See more examples of [commands and state synchronisation](./commands_and_state.ipynb).\n",
    "* See an example of building a [trajectory viewing application](../mdanalysis/mdanalysis_trajectory.ipynb)."
   ]
  },
  {
   "cell_type": "code",
   "execution_count": null,
   "metadata": {},
   "outputs": [],
   "source": []
  }
 ],
 "metadata": {
  "kernelspec": {
   "display_name": "Python 3",
   "language": "python",
   "name": "python3"
  },
  "language_info": {
   "codemirror_mode": {
    "name": "ipython",
    "version": 3
   },
   "file_extension": ".py",
   "mimetype": "text/x-python",
   "name": "python",
   "nbconvert_exporter": "python",
   "pygments_lexer": "ipython3",
   "version": "3.7.6"
  }
 },
 "nbformat": 4,
 "nbformat_minor": 2
}
