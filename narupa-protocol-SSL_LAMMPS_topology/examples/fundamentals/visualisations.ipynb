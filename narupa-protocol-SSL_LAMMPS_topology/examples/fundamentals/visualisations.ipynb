{
 "cells": [
  {
   "cell_type": "markdown",
   "metadata": {
    "pycharm": {
     "name": "#%% md\n"
    }
   },
   "source": [
    "# Narupa Concepts: Selections & Visualisation"
   ]
  },
  {
   "cell_type": "markdown",
   "metadata": {},
   "source": [
    "By creating selections of sets of atoms, we can display different atoms using different visualisations provided in the VR client Narupa iMD."
   ]
  },
  {
   "cell_type": "markdown",
   "metadata": {},
   "source": [
    "Selections are just like any other item stored in the multiplayer shared state - a dictionary of values with a given name. A selection is any object in the shared state which has a key of the form `selection.{id}`, such as `selection.1` or `selection.protein`. This id has to be unique, and hence you should not normally worry about it (it will be generated automatically)"
   ]
  },
  {
   "cell_type": "markdown",
   "metadata": {},
   "source": [
    "## Start a Server"
   ]
  },
  {
   "cell_type": "markdown",
   "metadata": {},
   "source": [
    "To begin to use selections, we will need a server! We will use the *Neuraminidase* example provided for the ASE/OpenMM runner, as it has a good mix of features including a polypeptide chain and multiple molecules (protein, ligand, and a couple of ions)."
   ]
  },
  {
   "cell_type": "code",
   "execution_count": null,
   "metadata": {},
   "outputs": [],
   "source": [
    "from narupa.openmm import serializer\n",
    "\n",
    "# Read the neuraminidase xml file, which defines the simulation parameters\n",
    "with open('../ase/openmm_files/neuraminidase.xml') as infile:\n",
    "    simulation = serializer.deserialize_simulation(infile.read())"
   ]
  },
  {
   "cell_type": "code",
   "execution_count": null,
   "metadata": {},
   "outputs": [],
   "source": [
    "from narupa.ase.openmm import OpenMMIMDRunner\n",
    "\n",
    "# Start a Narupa server given the simulation\n",
    "server = OpenMMIMDRunner(simulation)\n",
    "\n",
    "# Print what port the server is running on\n",
    "print(\"Server running on port {0}\".format(server.port))\n",
    "\n",
    "# Launch the server\n",
    "server.run()"
   ]
  },
  {
   "cell_type": "markdown",
   "metadata": {},
   "source": [
    "We now have a server running on the given port. By starting up Narupa iMD, you can now connect to this server either by using the autoconnect feature, or by manually typing in the port and address (you can use either `localhost` or `127.0.0.1`, both of which represent your local machine)"
   ]
  },
  {
   "cell_type": "markdown",
   "metadata": {},
   "source": [
    "Connecting to the server will present you with a simulation of Neuraminidase, drawn using the standard ball and stick approach. The coloring by default is **CPK**, which colors hydrogens, carbons, oxygens and nitrogens white, grey, red and blue respectively."
   ]
  },
  {
   "cell_type": "markdown",
   "metadata": {},
   "source": [
    "![Ball and Stick](images/ball-and-stick.png)"
   ]
  },
  {
   "cell_type": "markdown",
   "metadata": {},
   "source": [
    "## Creating a Python Client"
   ]
  },
  {
   "cell_type": "markdown",
   "metadata": {},
   "source": [
    "In order to make create and change selections, you require a client to be connected to the server. This client can then submit changes to the server's synchronised state, which is shared between everyone.\n",
    "\n",
    "The Narupa iMD client does not currently have a way of altering selections, so we will be using a pythonic client here in the notebook. Imagine this client as a phantom player - they can get information about the server and make changes, but they don't appear in the virtual space as an avatar."
   ]
  },
  {
   "cell_type": "code",
   "execution_count": null,
   "metadata": {},
   "outputs": [],
   "source": [
    "from narupa.app.client import NarupaImdClient\n",
    "\n",
    "# Start a Narupa client, using autoconnect to find the server we started earlier\n",
    "client = NarupaImdClient.autoconnect()\n",
    "client.subscribe_to_frames()\n",
    "\n",
    "# Wait for the first frame to be recieved about the current state of the system\n",
    "first_frame = client.wait_until_first_frame(check_interval=0.5, timeout=10)\n",
    "\n",
    "print(\"Client connected, recieved frame with {0} atom(s)\".format(first_frame.particle_count))"
   ]
  },
  {
   "cell_type": "markdown",
   "metadata": {},
   "source": [
    "The client is now connected and recieving frames, however in order to be able to change the state it must join the multiplayer as well."
   ]
  },
  {
   "cell_type": "code",
   "execution_count": null,
   "metadata": {},
   "outputs": [],
   "source": [
    "# Begin tracking updates to the shared multiplayer values\n",
    "client.subscribe_multiplayer()"
   ]
  },
  {
   "cell_type": "markdown",
   "metadata": {},
   "source": [
    "# The Root Selection"
   ]
  },
  {
   "cell_type": "markdown",
   "metadata": {},
   "source": [
    "Every simulation has an implicit selection already there - the **root selection**. This is an automatic selection that includes every atom in the simulation. We can access this in Python by accessing the `root_selection` property: "
   ]
  },
  {
   "cell_type": "code",
   "execution_count": null,
   "metadata": {},
   "outputs": [],
   "source": [
    "root_selection = client.root_selection\n",
    "print(root_selection)"
   ]
  },
  {
   "cell_type": "markdown",
   "metadata": {},
   "source": [
    "This gives us an object which we can use to manipulate the selection. It has several properties that we can inspect, such as:"
   ]
  },
  {
   "cell_type": "markdown",
   "metadata": {},
   "source": [
    "* `selected_particle_ids` - The set of particle indices that are in this selection. A value of `None` (as is the case of the root selection) does **NOT** mean there are no particles in the selection - it means that it includes **ALL** particles. An **empty set** represents an empty selection. This convention is used at several points throughout Narupa iMD. The reasoning behind this is, it would be impractical for a system of 10,000 atoms to have to store a list `[0, 1, ..., 9998, 9999]` just represent a selection of everything."
   ]
  },
  {
   "cell_type": "code",
   "execution_count": null,
   "metadata": {},
   "outputs": [],
   "source": [
    "print(root_selection.selected_particle_ids)"
   ]
  },
  {
   "cell_type": "markdown",
   "metadata": {},
   "source": [
    "* `selection_name` - As mentioned above, every selection has a name that will be displayed to the user."
   ]
  },
  {
   "cell_type": "code",
   "execution_count": null,
   "metadata": {},
   "outputs": [],
   "source": [
    "print(root_selection.selection_name)"
   ]
  },
  {
   "cell_type": "markdown",
   "metadata": {},
   "source": [
    "* `selection_id` - A unique ID generated by your client to identify the selection. Note that the root selection has a unique ID `root` (and hence is stored in the shared state dictionary under the key `selection.root`). This is an important name, as it allows Narupa iMD to identify which selection should be used for particles who don't belong to any other."
   ]
  },
  {
   "cell_type": "code",
   "execution_count": null,
   "metadata": {},
   "outputs": [],
   "source": [
    "print(root_selection.selection_id)"
   ]
  },
  {
   "cell_type": "markdown",
   "metadata": {},
   "source": [
    "* `interaction_method` - Specify what interaction method should be used with interacting with this selection. This can be\n",
    "    * `single`: Standard interaction mode, interacting will grab the nearest atom\n",
    "    * `group`: Grouped interaction mode, interacting with grab the entire selection\n",
    "    * `none`: Disable interactions. If an atom is a member of this selection, it will not be interactable."
   ]
  },
  {
   "cell_type": "code",
   "execution_count": null,
   "metadata": {},
   "outputs": [],
   "source": [
    "print(root_selection.interaction_method)"
   ]
  },
  {
   "cell_type": "markdown",
   "metadata": {},
   "source": [
    "<div class=\"alert alert-info\">\n",
    "\n",
    "**Note:** It is **strongly discouraged** to set the `interaction_method` for the root selection to `group`. This would mean if you interacted, you would interact with the entire simulation at once.\n",
    "\n",
    "</div>"
   ]
  },
  {
   "cell_type": "markdown",
   "metadata": {},
   "source": [
    "* `velocity_reset` - Setting this to true enabled velocity reset, which means when you release a particle after interacting with it, its velocities will be reset to 0. This prevents drifting when you are performing tasks such as drug docking"
   ]
  },
  {
   "cell_type": "code",
   "execution_count": null,
   "metadata": {},
   "outputs": [],
   "source": [
    "print(root_selection.velocity_reset)"
   ]
  },
  {
   "cell_type": "markdown",
   "metadata": {},
   "source": [
    "* `renderer` - This decides how the selection will be drawn. We will be going into more detail in the later section on visualisations."
   ]
  },
  {
   "cell_type": "code",
   "execution_count": null,
   "metadata": {},
   "outputs": [],
   "source": [
    "print(root_selection.renderer)"
   ]
  },
  {
   "cell_type": "markdown",
   "metadata": {},
   "source": [
    "* `hide` - If set to True, this hides the selection from view. It overrides any renderer specified above, by stating that the selection should not be visualised in any way."
   ]
  },
  {
   "cell_type": "code",
   "execution_count": null,
   "metadata": {},
   "outputs": [],
   "source": [
    "print(root_selection.hide)"
   ]
  },
  {
   "cell_type": "markdown",
   "metadata": {},
   "source": [
    "## Editing a Selection"
   ]
  },
  {
   "cell_type": "markdown",
   "metadata": {},
   "source": [
    "As you can see above, we can access various properties of the root selection. We can also set these options, allowing us to make modifications which will be sent to all users.\n",
    "\n",
    "However, simply setting a value **does not** send the change. To actually send the changes, you must use the `flush_changes` command. This schedules your changes to be sent to the server at the next possible opportunity, where they will then be sent to all other players.\n",
    "\n",
    "Let's have an example. Let's disable interactions for our root selection:"
   ]
  },
  {
   "cell_type": "code",
   "execution_count": null,
   "metadata": {},
   "outputs": [],
   "source": [
    "root_selection.interaction_method = 'none'\n",
    "root_selection.flush_changes()"
   ]
  },
  {
   "cell_type": "markdown",
   "metadata": {},
   "source": [
    "You should now note that you can no longer interact with the simulation. This is because currently, every atom belongs to the root selection and we have disabled interactions for it. Let's now try making multiple changes:"
   ]
  },
  {
   "cell_type": "code",
   "execution_count": null,
   "metadata": {},
   "outputs": [],
   "source": [
    "root_selection.interaction_method = 'single'\n",
    "root_selection.velocity_reset = True\n",
    "root_selection.flush_changes()"
   ]
  },
  {
   "cell_type": "markdown",
   "metadata": {},
   "source": [
    "It can be easy to forget to flush your changes after commands such as this. Therefore, we provide a syntax which automatically flushes changes:"
   ]
  },
  {
   "cell_type": "code",
   "execution_count": null,
   "metadata": {},
   "outputs": [],
   "source": [
    "with root_selection.modify() as selection:\n",
    "    selection.interaction_method = 'single'\n",
    "    selection.velocity_reset = True"
   ]
  },
  {
   "cell_type": "markdown",
   "metadata": {},
   "source": [
    "This is the prefered syntax for making changes to selections."
   ]
  },
  {
   "cell_type": "markdown",
   "metadata": {},
   "source": [
    "# Visualisations"
   ]
  },
  {
   "cell_type": "markdown",
   "metadata": {},
   "source": [
    "As mentioned above, the `renderer` key of a selection determines the visualisation that will be used in Narupa iMD. By changing this, we can determine how we present our system to our users."
   ]
  },
  {
   "cell_type": "markdown",
   "metadata": {},
   "source": [
    "## Presets"
   ]
  },
  {
   "cell_type": "markdown",
   "metadata": {},
   "source": [
    "The simplest way we can change our visualisation is to choose one of the preset visualisers provided in Narupa iMD. These are fully set up with parameters and colors to allow you to quickly choose an option. Anything possible with presets is also possible with the more detailed setup described below."
   ]
  },
  {
   "cell_type": "markdown",
   "metadata": {},
   "source": [
    "The possible presets are:"
   ]
  },
  {
   "cell_type": "markdown",
   "metadata": {},
   "source": [
    "<table>\n",
    "    <tr>\n",
    "        <td style='text-align: center'>\n",
    "            <code>\"ball and stick\"</code>\n",
    "            <img src='./images/presets/ball-and-stick.png'>\n",
    "        </td>\n",
    "        <td style='text-align: center'>\n",
    "            <code>\"liquorice\"</code>\n",
    "            <img src='./images/presets/liquorice.png'>\n",
    "        </td>\n",
    "        <td style='text-align: center'>\n",
    "            <code>\"noodles\"</code>\n",
    "            <img src='./images/presets/noodles.png'>\n",
    "        </td>\n",
    "        <td style='text-align: center'>\n",
    "            <code>\"goodsell\"</code>\n",
    "            <img src='./images/presets/goodsell.png'>\n",
    "        </td>\n",
    "    </tr>\n",
    "    <tr>\n",
    "        <td style='text-align: center'>\n",
    "            <code>\"cycles\"</code>\n",
    "            <img src='./images/presets/cycles.png'>\n",
    "        </td>\n",
    "        <td style='text-align: center'>\n",
    "            <code>\"spline\"</code>\n",
    "            <img src='./images/presets/spline.png'>\n",
    "        </td>\n",
    "        <td style='text-align: center'>\n",
    "            <code>\"geometric spline\"</code>\n",
    "            <img src='./images/presets/geometric-spline.png'>\n",
    "        </td>\n",
    "        <td style='text-align: center'>\n",
    "            <code>\"cartoon\"</code>\n",
    "            <img src='./images/presets/cartoon.png'>\n",
    "        </td>\n",
    "    </tr>\n",
    "</table>"
   ]
  },
  {
   "cell_type": "markdown",
   "metadata": {},
   "source": [
    "We choose a visualiser in the same way we alter any other properties of a selection:"
   ]
  },
  {
   "cell_type": "code",
   "execution_count": null,
   "metadata": {},
   "outputs": [],
   "source": [
    "# Set the root selection to be drawn using the liquorice preset\n",
    "with client.root_selection.modify() as selection:\n",
    "    selection.renderer = 'liquorice'"
   ]
  },
  {
   "cell_type": "markdown",
   "metadata": {},
   "source": [
    "## Constructing a Visualiser"
   ]
  },
  {
   "cell_type": "markdown",
   "metadata": {},
   "source": [
    "If we want to get our hands dirty and have more control over how our system is displayed, we can construct a visualiser. This involves setting the renderer to a dictionary with specific keys, which are instructions on how the client should build a visualiser."
   ]
  },
  {
   "cell_type": "markdown",
   "metadata": {},
   "source": [
    "A visualiser consists of several parts linked together, which gives a modular construction that allows more control how different values are calculated:\n",
    "\n",
    "* A **sequence** component (Optional), which calculates sequences of particles indices for drawing as splines.\n",
    "* A **color** component, which provides a per particle color scheme\n",
    "* A **scale** component, which provides a per particle scale\n",
    "* A **width** component, which provides a per particle width (used for visualisers such as ribbons)\n",
    "* A **render** component, who takes information from the other components and draws something to the screen"
   ]
  },
  {
   "cell_type": "markdown",
   "metadata": {},
   "source": [
    "All of these parts have a default value, so technically an empty dictionary is a valid renderer:"
   ]
  },
  {
   "cell_type": "code",
   "execution_count": null,
   "metadata": {},
   "outputs": [],
   "source": [
    "# Set the root selection to be drawn using the liquorice preset\n",
    "with client.root_selection.modify() as selection:\n",
    "    selection.renderer = {}"
   ]
  },
  {
   "cell_type": "markdown",
   "metadata": {},
   "source": [
    "You will see the following visualisation appear:\n",
    "\n",
    "![](./images/examples/empty-dict.png)"
   ]
  },
  {
   "cell_type": "markdown",
   "metadata": {},
   "source": [
    "This is because the defaults are as follows\n",
    "* If you don't provide a color, white is used\n",
    "* If you don't provide a scale, it is 1\n",
    "* If you don't provide a render, it defaults to ball and stick"
   ]
  },
  {
   "cell_type": "markdown",
   "metadata": {},
   "source": [
    "Let's try something a little more interesting. Let's pick a color such as cornflower blue, and try it out"
   ]
  },
  {
   "cell_type": "code",
   "execution_count": null,
   "metadata": {},
   "outputs": [],
   "source": [
    "# Set the root selection to be drawn using the liquorice preset\n",
    "with client.root_selection.modify() as selection:\n",
    "    selection.renderer = {\n",
    "        \"color\": \"CornflowerBlue\",\n",
    "        \"render\": \"liquorice\"\n",
    "    }"
   ]
  },
  {
   "cell_type": "markdown",
   "metadata": {},
   "source": [
    "![](./images/examples/cornflower-blue.png)"
   ]
  },
  {
   "cell_type": "markdown",
   "metadata": {},
   "source": [
    "<div class=\"alert alert-info\">\n",
    "\n",
    "**Colors:** Colors can be specified in several different ways:\n",
    "    \n",
    "   * A string containing a hex color, with or without a preceding hash, such as `'F15H3C'` or `'#FF4E00'`. Googling 'color picker' will give you a widget that allows you to choose a color.\n",
    "   * Any of the colors defined in the CSS3 standard, such as `'Red'` or `'AliceBlue'`. These will be familiar with those involved in web development, with a full list available [here](https://www.w3schools.com/cssref/css_colors.asp)\n",
    "   * An array of three floats, defining the R, G and B values from 0 to 1, such as `'[0.3, 0.8, 1.0]'`\n",
    "\n",
    "Any variable which accepts a color can be set using any of these methods\n",
    "\n",
    "</div>"
   ]
  },
  {
   "cell_type": "markdown",
   "metadata": {},
   "source": [
    "For certain arguments such as `color`, `render` and `scale`, providing the name of a specific component (in the above case, we are using the `liquorice` render component) will use that component in the visualiser. A **component** is a part of the visualiser that takes in some data, and outputs some new data. For example, the `cpk` color component takes in the element of each particle, and outputs a color based upon a defined scheme. \n",
    "\n",
    "Each component may also has optional arguments which can be modified. Here, instead of just giving the string name of the component, we must provide a dictionary which has a 'type': 'component_name' entry. For example, the `cpk` color component has a parameter `scheme`:"
   ]
  },
  {
   "cell_type": "code",
   "execution_count": null,
   "metadata": {},
   "outputs": [],
   "source": [
    "# Use the CPK component with default arguments\n",
    "with client.root_selection.modify() as selection:\n",
    "    selection.renderer = {\n",
    "        \"color\": \"cpk\"\n",
    "    }"
   ]
  },
  {
   "cell_type": "markdown",
   "metadata": {},
   "source": [
    "![](./images/examples/cpk.png)"
   ]
  },
  {
   "cell_type": "code",
   "execution_count": null,
   "metadata": {},
   "outputs": [],
   "source": [
    "# Use the CPK component with the 'scheme' argument, which specifies the built-in Narupa Scheme\n",
    "with client.root_selection.modify() as selection:\n",
    "    selection.renderer = {\n",
    "        \"color\": {\n",
    "            'type': 'cpk',\n",
    "            'scheme': 'narupa'\n",
    "        }\n",
    "    }"
   ]
  },
  {
   "cell_type": "markdown",
   "metadata": {},
   "source": [
    "![](./images/examples/cpk-narupa.png)"
   ]
  },
  {
   "cell_type": "code",
   "execution_count": null,
   "metadata": {},
   "outputs": [],
   "source": [
    "# Use the CPK component with the 'scheme' argument, but providing your own scheme\n",
    "with client.root_selection.modify() as selection:\n",
    "    selection.renderer = {\n",
    "        \"color\": {\n",
    "            'type': 'cpk',\n",
    "            'scheme': {\n",
    "                'H': 'HoneyDew',\n",
    "                'C': 'DarkSlateGrey',\n",
    "                'O': 'FireBrick',\n",
    "                'N': 'DarkTurquoise',\n",
    "                'S': 'Khaki'\n",
    "            }\n",
    "        }\n",
    "    }"
   ]
  },
  {
   "cell_type": "markdown",
   "metadata": {},
   "source": [
    "![](./images/examples/cpk-custom.png)"
   ]
  },
  {
   "cell_type": "markdown",
   "metadata": {},
   "source": [
    "Once we have a scheme we quite like, we could also play around at modifying the scales of the ball and sticks:"
   ]
  },
  {
   "cell_type": "code",
   "execution_count": null,
   "metadata": {},
   "outputs": [],
   "source": [
    "# Use the CPK component with the 'scheme' argument, but providing your own scheme and customising the render\n",
    "with client.root_selection.modify() as selection:\n",
    "    selection.renderer = {\n",
    "        \"color\": {\n",
    "            'type': 'cpk',\n",
    "            'scheme': {\n",
    "                'H': 'HoneyDew',\n",
    "                'C': 'DarkSlateGrey',\n",
    "                'O': 'FireBrick',\n",
    "                'N': 'DarkTurquoise',\n",
    "                'S': 'Khaki'\n",
    "            }\n",
    "        },\n",
    "        \"render\": {\n",
    "            \"particle.scale\": 0.05,\n",
    "            \"bond.scale\": 0.02,\n",
    "            \"type\": \"ball and stick\"\n",
    "        }\n",
    "    }"
   ]
  },
  {
   "cell_type": "markdown",
   "metadata": {},
   "source": [
    "![](./images/examples/cpk-custom2.png)"
   ]
  },
  {
   "cell_type": "markdown",
   "metadata": {},
   "source": [
    "The Appendix lists all current possible visualisations and their arguments that can be used in Narupa iMD."
   ]
  },
  {
   "cell_type": "markdown",
   "metadata": {},
   "source": [
    "# Selections"
   ]
  },
  {
   "cell_type": "markdown",
   "metadata": {},
   "source": [
    "In preparation for this section, let's set our base visualiser to something clean:"
   ]
  },
  {
   "cell_type": "code",
   "execution_count": null,
   "metadata": {},
   "outputs": [],
   "source": [
    "with client.root_selection.modify() as selection:\n",
    "    selection.renderer = {\n",
    "        'color': {\n",
    "            'type': 'cpk',\n",
    "            'scheme': 'narupa'\n",
    "        },\n",
    "        'scale': 0.04,\n",
    "        'render': 'liquorice'\n",
    "    }"
   ]
  },
  {
   "cell_type": "markdown",
   "metadata": {},
   "source": [
    "![](./images/examples/clean.png)"
   ]
  },
  {
   "cell_type": "markdown",
   "metadata": {},
   "source": [
    "The `NaruaImdClient` python client has several methods related to creating, updating and removing selections. First of all, we will be creating a selection. To do so, we need two things\n",
    "\n",
    "* A name. This is currently unused, however it may be displayed in the future in a user interace, so choose a concise descriptive name of the selection you are creating\n",
    "\n",
    "* A list of particle indices that will be in your selection. \n",
    "\n",
    "<div class=\"alert alert-info\">\n",
    "\n",
    "**Note:** Particle indices are **0-based**, as defined in your simulation. Therefore, the first particle is **0**, the second particle is **1**, etc.\n",
    "\n",
    "</div>"
   ]
  },
  {
   "cell_type": "markdown",
   "metadata": {},
   "source": [
    "For our example here, we will be creating a selection consisting of ARG-37 and GLU-38, which consists of all particles from 563 to 601:"
   ]
  },
  {
   "cell_type": "code",
   "execution_count": null,
   "metadata": {},
   "outputs": [],
   "source": [
    "my_first_selection = client.create_selection(\"ARG_GLU\", list(range(563, 602)))"
   ]
  },
  {
   "cell_type": "markdown",
   "metadata": {},
   "source": [
    "Note that we could have just as easily written the particle indices out as `[563, 564, ..., 600, 601]`, however we are using the `range` command for brevity. Also remember that the range command is not end inclusive - `602` does not appear in the list.\n",
    "\n",
    "You may not notice the selection initially. This is because the selection has defaulted to the default renderer. Let's highlight this selection instead:"
   ]
  },
  {
   "cell_type": "code",
   "execution_count": null,
   "metadata": {},
   "outputs": [],
   "source": [
    "# Draw the selection in a chunky gold liquorice style\n",
    "with my_first_selection.modify() as selection:\n",
    "    selection.renderer = {\n",
    "        'color': 'Gold',\n",
    "        'scale': 0.1,\n",
    "        'render': 'liquorice'\n",
    "    }"
   ]
  },
  {
   "cell_type": "markdown",
   "metadata": {},
   "source": [
    "![](./images/examples/selection1.png)"
   ]
  },
  {
   "cell_type": "markdown",
   "metadata": {},
   "source": [
    "We can now see our selection! All the atoms that we specified in this selection are now being draw using the renderer specified for our new selection instead."
   ]
  },
  {
   "cell_type": "markdown",
   "metadata": {},
   "source": [
    "After creating our selection, we can easily expand it in two different ways - we can set the particles using `set_particles`, or expand our selection using `add_particles`:"
   ]
  },
  {
   "cell_type": "code",
   "execution_count": null,
   "metadata": {},
   "outputs": [],
   "source": [
    "# Change selection to be ARG-144 and THR-145\n",
    "with my_first_selection.modify() as selection:\n",
    "    selection.set_particles(range(2213, 2250))"
   ]
  },
  {
   "cell_type": "code",
   "execution_count": null,
   "metadata": {},
   "outputs": [],
   "source": [
    "# Expand the above selection to include LEU-143\n",
    "with my_first_selection.modify() as selection:\n",
    "    selection.add_particles(range(2194, 2213))"
   ]
  },
  {
   "cell_type": "markdown",
   "metadata": {},
   "source": [
    "We have now changed our selection to be LEU-143, ARG-144 and THR-145"
   ]
  },
  {
   "cell_type": "markdown",
   "metadata": {},
   "source": [
    "![](./images/examples/selection2.png)"
   ]
  },
  {
   "cell_type": "markdown",
   "metadata": {},
   "source": [
    "If we ever want to get rid of our selection, we can do so using the `remove` method. Note this is the only method where you **do not** need to call `modify()` or `flush_changes()` - calling remove instantly sends a message to the server to remove this selection from everyone's dictionaries"
   ]
  },
  {
   "cell_type": "code",
   "execution_count": null,
   "metadata": {},
   "outputs": [],
   "source": [
    "# Remove our selection\n",
    "my_first_selection.remove()"
   ]
  },
  {
   "cell_type": "markdown",
   "metadata": {},
   "source": [
    "If we have several selections and we want to clear them all, our client provides a handy method for this"
   ]
  },
  {
   "cell_type": "code",
   "execution_count": null,
   "metadata": {},
   "outputs": [],
   "source": [
    "# Remove all selections\n",
    "client.clear_selections()"
   ]
  },
  {
   "cell_type": "markdown",
   "metadata": {},
   "source": [
    "## Close the Server"
   ]
  },
  {
   "cell_type": "markdown",
   "metadata": {},
   "source": [
    "It is good practise to close the client and server when we are done, to clean up any resources and ensure they're not still running in the background."
   ]
  },
  {
   "cell_type": "code",
   "execution_count": null,
   "metadata": {},
   "outputs": [],
   "source": [
    "client.close()\n",
    "server.close()"
   ]
  },
  {
   "cell_type": "markdown",
   "metadata": {},
   "source": [
    "# Next Steps\n",
    "\n",
    "* Try out visualisations as a part of a tutorial, such as static snapshot of an [seratonin receptor](../mdanalysis/mdanalysis_lsd.ipynb) or setting up the [neuraminidase/oesteltamivir](../ase/openmm_neuraminidase.ipynb) simulation fro scratch!"
   ]
  },
  {
   "cell_type": "markdown",
   "metadata": {},
   "source": [
    "# Appendix - Possible Options for Visualisers"
   ]
  },
  {
   "cell_type": "markdown",
   "metadata": {},
   "source": [
    "## Parameter Types"
   ]
  },
  {
   "cell_type": "markdown",
   "metadata": {},
   "source": [
    "Parameters can be of the following types, and can often be specified in different ways:\n",
    "\n",
    "#### Float\n",
    "\n",
    "Can be specified as either an integer (`0`, `32`, `-11`) or a decimal (`2.31`, `-0.2`).\n",
    "\n",
    "#### String\n",
    "\n",
    "Self explanatory, use a python string\n",
    "\n",
    "#### Color\n",
    "\n",
    "Explained in more detail under the Visualisation section, but can be\n",
    "\n",
    "* A string containing a hex code, with or without preceding #\n",
    "* A string specifying a CSS3 color name\n",
    "* A list of three floats, specifying the R, G and B values from 0 to 1\n",
    "\n",
    "#### Gradient\n",
    "\n",
    "A gradient is a list of two to seven colors, each specified as above. You can mix and match which styles you use\n",
    "\n",
    "```python\n",
    "[\n",
    "    '#ffff00',\n",
    "    'SlateGrey',\n",
    "    [0.1, 0.5, 0.3]\n",
    "]\n",
    "```\n",
    "\n",
    "#### Element-Color Mapping\n",
    "\n",
    "Defines a map between atomic elements and colors. It can be\n",
    "\n",
    "* A predefined map. The current options are `jmol` or `narupa`.\n",
    "* A custom dictionary. The keys of this should be atomic elements, and colors can be specified as above\n",
    "```python\n",
    "{\n",
    "    'H': 'AliceBlue',\n",
    "    'O': '#ff2e09'\n",
    "}\n",
    "```"
   ]
  },
  {
   "cell_type": "markdown",
   "metadata": {},
   "source": [
    "---"
   ]
  },
  {
   "cell_type": "markdown",
   "metadata": {},
   "source": [
    "## Color Components"
   ]
  },
  {
   "cell_type": "markdown",
   "metadata": {},
   "source": [
    "The following components can be used by adding `'color': component_name` to your dictionary. For parameters, you should using\n",
    "\n",
    "```python\n",
    "'color': {\n",
    "    'type': component_name,\n",
    "    # parameters...\n",
    "}\n",
    "```\n",
    "\n",
    "If you want a solid color, you can simply specify `'color': color` using the color specification defined above"
   ]
  },
  {
   "cell_type": "markdown",
   "metadata": {},
   "source": [
    "## `cpk`\n",
    "\n",
    "Color by atomic element\n",
    "\n",
    "**Parameters**\n",
    "\n",
    "* `scheme` (Element-Color Mapping) - The mapping to use to transform element to color. Defaults to `jmol`.\n",
    "\n",
    "## `goodsell`\n",
    "\n",
    "Goodsell style color scheme. Cycles through a set of 11 pastel colors, coloring each entity uniquely. Colors non carbons in a slightly darker color\n",
    "\n",
    "## `particle index`\n",
    "\n",
    "Colors particles by their index in the simulation, with the gradient going from the first particle to the last particle.\n",
    "\n",
    "**Parameters**\n",
    "\n",
    "* `gradient` (Gradient) - The gradient to use to color the particles Defaults to a red to blue gradient.\n",
    "\n",
    "## `residue index`\n",
    "\n",
    "Colors particles by the index of their residue in the simulation, with the gradient going from the first residue to the last.\n",
    "\n",
    "**Parameters**\n",
    "\n",
    "* `gradient` (Gradient) - The gradient to use to color the particles Defaults to a red to blue gradient.\n",
    "\n",
    "## `residue index in entity`\n",
    "\n",
    "Colors particles by the index of their residue in their entity, with the gradient going from the first residue of each entity to the last.\n",
    "\n",
    "**Parameters**\n",
    "\n",
    "* `gradient` (Gradient) - The gradient to use to color the particles Defaults to a red to blue gradient.\n",
    "\n",
    "## `residue name`\n",
    "\n",
    "Colors particles by the name of their residue. Currently hardcoded to use the RCSB colors, but will be modifiable in a future update.\n",
    "\n",
    "## `secondary structure`\n",
    "\n",
    "Colors particles by their secondary structure, calculated using the DSSP algorithm. Currently the color is hard coded to:\n",
    "\n",
    "* Yellow for beta sheets\n",
    "* Red for pi helices\n",
    "* Magenta for alpha helices\n",
    "* Blue for 3-10 helices\n",
    "* White for everything else\n",
    "\n",
    "These colors will be modifiable in a future update."
   ]
  },
  {
   "cell_type": "markdown",
   "metadata": {},
   "source": [
    "---"
   ]
  },
  {
   "cell_type": "markdown",
   "metadata": {},
   "source": [
    "## Scale Components"
   ]
  },
  {
   "cell_type": "markdown",
   "metadata": {},
   "source": [
    "The following components can be used by adding `'scale': component_name` to your dictionary. For parameters, you should using\n",
    "\n",
    "```python\n",
    "'scale': {\n",
    "    'type': component_name,\n",
    "    # parameters...\n",
    "}\n",
    "```\n",
    "\n",
    "If you want a constant scale, you can simply specify `'scale': scale` using the float specification defined above"
   ]
  },
  {
   "cell_type": "markdown",
   "metadata": {},
   "source": [
    "## `vdw`\n",
    "\n",
    "Use the van der Waals radii for each element."
   ]
  },
  {
   "cell_type": "markdown",
   "metadata": {},
   "source": [
    "---"
   ]
  },
  {
   "cell_type": "markdown",
   "metadata": {},
   "source": [
    "## Width Components"
   ]
  },
  {
   "cell_type": "markdown",
   "metadata": {},
   "source": [
    "The following components can be used by adding `'width': component_name` to your dictionary. For parameters, you should using\n",
    "\n",
    "```python\n",
    "'width': {\n",
    "    'type': component_name,\n",
    "    # parameters...\n",
    "}\n",
    "```\n",
    "\n",
    "If you want a constant width, you can simply specify `'width': width` using the float specification defined above"
   ]
  },
  {
   "cell_type": "markdown",
   "metadata": {},
   "source": [
    "## `secondary structure`\n",
    "\n",
    "Use the following widths based on the calculated secondary structure\n",
    "\n",
    "* 1 for helices and sheets\n",
    "* 0 for everything else\n",
    "\n",
    "This gives width to sheets and helices to allow a ribbon style render"
   ]
  },
  {
   "cell_type": "markdown",
   "metadata": {},
   "source": [
    "---"
   ]
  },
  {
   "cell_type": "markdown",
   "metadata": {},
   "source": [
    "## Sequence Components"
   ]
  },
  {
   "cell_type": "markdown",
   "metadata": {},
   "source": [
    "The following components can be used by adding `'sequence': component_name` to your dictionary. For parameters, you should using\n",
    "\n",
    "```python\n",
    "'sequence': {\n",
    "    'type': component_name,\n",
    "    # parameters...\n",
    "}\n",
    "```\n",
    "\n",
    "You need to provide a sequence component when dealing with render components such as splines, which you need to tell how to decide which curves to draw"
   ]
  },
  {
   "cell_type": "markdown",
   "metadata": {},
   "source": [
    "## `entities`\n",
    "\n",
    "Create sequences that go from the first particle in each entity to the last.\n",
    "\n",
    "## `polypeptide`\n",
    "\n",
    "Create sequences of the alpha carbons of subsequent amino acids. All non amino acids are ignored."
   ]
  },
  {
   "cell_type": "markdown",
   "metadata": {},
   "source": [
    "---"
   ]
  },
  {
   "cell_type": "markdown",
   "metadata": {},
   "source": [
    "## Render Components"
   ]
  },
  {
   "cell_type": "markdown",
   "metadata": {},
   "source": [
    "Render components are responsible for drawing objects to the screen.\n",
    "\n",
    "The following components can be used by adding `'render': component_name` to your dictionary. For parameters, you should using\n",
    "\n",
    "```python\n",
    "'render': {\n",
    "    'type': component_name,\n",
    "    # parameters...\n",
    "}\n",
    "```"
   ]
  },
  {
   "cell_type": "markdown",
   "metadata": {},
   "source": [
    "## `ball and stick`\n",
    "\n",
    "Classic ball and stick render\n",
    "\n",
    "**Parameters**\n",
    "\n",
    "* `color` (Color) - Color which is multiplied to whatever is provided from before. Default is white.\n",
    "* `particle.scale` (Float) - The scaling factor of the balls. Default is 0.1x\n",
    "* `bond.scale` (Float) - The scaling factor of the bonds. Default is 0.05x\n",
    "\n",
    "## `liquorice`\n",
    "\n",
    "Liquorice render, equivelant to a ball and stick render where the radii of the balls and sticks are equal\n",
    "\n",
    "**Parameters**\n",
    "\n",
    "* `color` (Color) - Color which is multiplied to whatever is provided from before. Default is white.\n",
    "* `scale` (Float) - Scaling factor. Default is 0.05x\n",
    "\n",
    "## `cycles`\n",
    "\n",
    "Similar to a liquorice render, but with any rings with between three and six members shaded using a convex hull.\n",
    "\n",
    "**Parameters**\n",
    "\n",
    "* `color` (Color) - Color which is multiplied to whatever is provided from before. Default is white.\n",
    "* `scale` (Float) - Scaling factor. Default is 0.1x\n",
    "\n",
    "## `goodsell`\n",
    "\n",
    "Renders standard spheres, but without shading. This also applies an outline based upon the particle's residue, helping to highlight the chains in the molecule.\n",
    "\n",
    "**Parameters**\n",
    "\n",
    "* `color` (Color) - Color which is multiplied to whatever is provided from before. Default is white.\n",
    "* `scale` (Float) - Scaling factor. Default is 0.6x\n",
    "\n",
    "## `noodles`\n",
    "\n",
    "Similar to the liquorice render, but curving bonds to give a more organic shape.\n",
    "\n",
    "**Parameters**\n",
    "\n",
    "* `color` (Color) - Color which is multiplied to whatever is provided from before. Default is white.\n",
    "* `scale` (Float) - Scaling factor. Default is 0.1x\n",
    "\n",
    "## `spline`\n",
    "\n",
    "Draws a cylinder along each sequence of particles.\n",
    "\n",
    "**Parameters**\n",
    "\n",
    "* `scale` (Float) - Scaling factor. Default is 0.1x\n",
    "\n",
    "## `geometric spline`\n",
    "\n",
    "Uses a method similar to the cycles renderer to give a chunky geometric representation of a ribbon along each sequence of particles.\n",
    "\n",
    "**Parameters**\n",
    "\n",
    "* `scale` (Float) - Scaling factor, describing how chunky the spline is. Default is 0.1x\n",
    "* `width` (Float) - Scaling factor, describing the width of the spline. Default is 0.1\n",
    "\n",
    "## `elliptic spline`\n",
    "\n",
    "Draw a cylindrical spline which can be stretched into an elliptic spline, with a fix to ensure that glitching does not occur when the spline rotates.\n",
    "\n",
    "**Parameters**\n",
    "\n",
    "* `scale` (Float) - Scaling factor, describing how chunky the spline is. Default is 0.1x\n",
    "* `width` (Float) - Scaling factor, describing the width of the spline. Default is 0.1"
   ]
  },
  {
   "cell_type": "code",
   "execution_count": null,
   "metadata": {},
   "outputs": [],
   "source": []
  }
 ],
 "metadata": {
  "kernelspec": {
   "display_name": "Python 3",
   "language": "python",
   "name": "python3"
  },
  "language_info": {
   "codemirror_mode": {
    "name": "ipython",
    "version": 3
   },
   "file_extension": ".py",
   "mimetype": "text/x-python",
   "name": "python",
   "nbconvert_exporter": "python",
   "pygments_lexer": "ipython3",
   "version": "3.7.6"
  },
  "pycharm": {
   "stem_cell": {
    "cell_type": "raw",
    "metadata": {
     "collapsed": false
    },
    "source": []
   }
  }
 },
 "nbformat": 4,
 "nbformat_minor": 1
}
